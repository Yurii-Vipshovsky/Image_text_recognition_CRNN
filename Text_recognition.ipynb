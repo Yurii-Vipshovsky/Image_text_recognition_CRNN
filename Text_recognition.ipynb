{
 "cells": [
  {
   "cell_type": "code",
   "execution_count": 1,
   "metadata": {},
   "outputs": [],
   "source": [
    "import numpy as np\n",
    "import pandas\n",
    "from PIL import Image as pilImg\n",
    "import os \n",
    "import cv2\n",
    "from datetime import datetime\n",
    "import matplotlib.pyplot as plt\n",
    "import itertools"
   ]
  },
  {
   "attachments": {},
   "cell_type": "markdown",
   "metadata": {},
   "source": [
    "1. Підготовка Даних із завантаженого датасета із Англійскими словами\n",
    "Source: https://www.robots.ox.ac.uk/~vgg/data/text/#sec-synth"
   ]
  },
  {
   "attachments": {},
   "cell_type": "markdown",
   "metadata": {},
   "source": [
    "Із file_path (шлях до txt файлу із описами картинок) отримує картинки у кількості number\n",
    "Повертає тільки картинки з текстом розміром від 4 до 12 елементів\n",
    "\n",
    "Takes the file path of images annotation txt file with the number of images names to be extracted\n",
    "and returns the list of file names having label length <=12"
   ]
  },
  {
   "cell_type": "code",
   "execution_count": 2,
   "metadata": {},
   "outputs": [],
   "source": [
    "def Extract_image_names(file_path, number):\n",
    "    with open(file_path) as file:\n",
    "        files = file.readlines()\n",
    "        file.close()\n",
    "        count = 0\n",
    "        img_names = []\n",
    "        for f in files:\n",
    "            \"\"\"\n",
    "            Extract from 'SynthImageDataset./2425/1/115_Lube_45484.jpg 45484' only image lable - Lube\n",
    "            \"\"\"\n",
    "            label = f.split('_')[1]\n",
    "            if len(label) >= 4 and len(label) <= 12:\n",
    "                img_names.append(f)\n",
    "                count += 1\n",
    "            if count == number:\n",
    "                break\n",
    "        images_names=['SynthImageDataset' + x.strip() for x in img_names]\n",
    "        #Clears date deleting number from end of name\n",
    "        res_files = []\n",
    "        for file in images_names:\n",
    "            main_folder, img_loc, extension = file.split('.')\n",
    "            extension = extension.split(' ')[0]\n",
    "            img_file = main_folder + img_loc + '.' + extension\n",
    "            res_files.append(img_file)\n",
    "        return res_files"
   ]
  },
  {
   "attachments": {},
   "cell_type": "markdown",
   "metadata": {},
   "source": [
    "У змінну для навчання записуєм 200000 шляхів до картинок"
   ]
  },
  {
   "cell_type": "code",
   "execution_count": 3,
   "metadata": {},
   "outputs": [
    {
     "data": {
      "text/plain": [
       "['SynthImageDataset/2425/1/115_Lube_45484.jpg',\n",
       " 'SynthImageDataset/2425/1/114_Spencerian_73323.jpg',\n",
       " 'SynthImageDataset/2425/1/112_CARPENTER_11682.jpg',\n",
       " 'SynthImageDataset/2425/1/110_savannas_67969.jpg',\n",
       " 'SynthImageDataset/2425/1/109_unfix_82473.jpg']"
      ]
     },
     "execution_count": 3,
     "metadata": {},
     "output_type": "execute_result"
    }
   ],
   "source": [
    "train_images = Extract_image_names('SynthImageDataset/annotation_train.txt',200000)\n",
    "train_images[:5]"
   ]
  },
  {
   "cell_type": "code",
   "execution_count": 4,
   "metadata": {},
   "outputs": [
    {
     "data": {
      "text/html": [
       "<div>\n",
       "<style scoped>\n",
       "    .dataframe tbody tr th:only-of-type {\n",
       "        vertical-align: middle;\n",
       "    }\n",
       "\n",
       "    .dataframe tbody tr th {\n",
       "        vertical-align: top;\n",
       "    }\n",
       "\n",
       "    .dataframe thead th {\n",
       "        text-align: right;\n",
       "    }\n",
       "</style>\n",
       "<table border=\"1\" class=\"dataframe\">\n",
       "  <thead>\n",
       "    <tr style=\"text-align: right;\">\n",
       "      <th></th>\n",
       "      <th>ImageName</th>\n",
       "    </tr>\n",
       "  </thead>\n",
       "  <tbody>\n",
       "    <tr>\n",
       "      <th>0</th>\n",
       "      <td>SynthImageDataset/2425/1/115_Lube_45484.jpg</td>\n",
       "    </tr>\n",
       "    <tr>\n",
       "      <th>1</th>\n",
       "      <td>SynthImageDataset/2425/1/114_Spencerian_73323.jpg</td>\n",
       "    </tr>\n",
       "    <tr>\n",
       "      <th>2</th>\n",
       "      <td>SynthImageDataset/2425/1/112_CARPENTER_11682.jpg</td>\n",
       "    </tr>\n",
       "    <tr>\n",
       "      <th>3</th>\n",
       "      <td>SynthImageDataset/2425/1/110_savannas_67969.jpg</td>\n",
       "    </tr>\n",
       "    <tr>\n",
       "      <th>4</th>\n",
       "      <td>SynthImageDataset/2425/1/109_unfix_82473.jpg</td>\n",
       "    </tr>\n",
       "  </tbody>\n",
       "</table>\n",
       "</div>"
      ],
      "text/plain": [
       "                                           ImageName\n",
       "0        SynthImageDataset/2425/1/115_Lube_45484.jpg\n",
       "1  SynthImageDataset/2425/1/114_Spencerian_73323.jpg\n",
       "2   SynthImageDataset/2425/1/112_CARPENTER_11682.jpg\n",
       "3    SynthImageDataset/2425/1/110_savannas_67969.jpg\n",
       "4       SynthImageDataset/2425/1/109_unfix_82473.jpg"
      ]
     },
     "execution_count": 4,
     "metadata": {},
     "output_type": "execute_result"
    }
   ],
   "source": [
    "train_data = pandas.DataFrame({'ImageName':train_images})\n",
    "train_data.head()"
   ]
  },
  {
   "attachments": {},
   "cell_type": "markdown",
   "metadata": {},
   "source": [
    "Із файлів отримуємо назви картинок, які відповідають тексту на картинках"
   ]
  },
  {
   "cell_type": "code",
   "execution_count": 5,
   "metadata": {},
   "outputs": [],
   "source": [
    "def extract_values(files):\n",
    "    \"\"\"\n",
    "    Given the file names of images, extracts the Values and returns a list of Labels in Upper Case\n",
    "    \"\"\"\n",
    "    txt_labels = []\n",
    "    for file in files:\n",
    "        values = file.split('_')[1]\n",
    "        values = values.upper()\n",
    "        txt_labels.append(values)\n",
    "    return txt_labels   \n"
   ]
  },
  {
   "cell_type": "code",
   "execution_count": 6,
   "metadata": {},
   "outputs": [
    {
     "data": {
      "text/html": [
       "<div>\n",
       "<style scoped>\n",
       "    .dataframe tbody tr th:only-of-type {\n",
       "        vertical-align: middle;\n",
       "    }\n",
       "\n",
       "    .dataframe tbody tr th {\n",
       "        vertical-align: top;\n",
       "    }\n",
       "\n",
       "    .dataframe thead th {\n",
       "        text-align: right;\n",
       "    }\n",
       "</style>\n",
       "<table border=\"1\" class=\"dataframe\">\n",
       "  <thead>\n",
       "    <tr style=\"text-align: right;\">\n",
       "      <th></th>\n",
       "      <th>ImageName</th>\n",
       "      <th>Labels</th>\n",
       "    </tr>\n",
       "  </thead>\n",
       "  <tbody>\n",
       "    <tr>\n",
       "      <th>0</th>\n",
       "      <td>SynthImageDataset/2425/1/115_Lube_45484.jpg</td>\n",
       "      <td>LUBE</td>\n",
       "    </tr>\n",
       "    <tr>\n",
       "      <th>1</th>\n",
       "      <td>SynthImageDataset/2425/1/114_Spencerian_73323.jpg</td>\n",
       "      <td>SPENCERIAN</td>\n",
       "    </tr>\n",
       "    <tr>\n",
       "      <th>2</th>\n",
       "      <td>SynthImageDataset/2425/1/112_CARPENTER_11682.jpg</td>\n",
       "      <td>CARPENTER</td>\n",
       "    </tr>\n",
       "    <tr>\n",
       "      <th>3</th>\n",
       "      <td>SynthImageDataset/2425/1/110_savannas_67969.jpg</td>\n",
       "      <td>SAVANNAS</td>\n",
       "    </tr>\n",
       "    <tr>\n",
       "      <th>4</th>\n",
       "      <td>SynthImageDataset/2425/1/109_unfix_82473.jpg</td>\n",
       "      <td>UNFIX</td>\n",
       "    </tr>\n",
       "  </tbody>\n",
       "</table>\n",
       "</div>"
      ],
      "text/plain": [
       "                                           ImageName      Labels\n",
       "0        SynthImageDataset/2425/1/115_Lube_45484.jpg        LUBE\n",
       "1  SynthImageDataset/2425/1/114_Spencerian_73323.jpg  SPENCERIAN\n",
       "2   SynthImageDataset/2425/1/112_CARPENTER_11682.jpg   CARPENTER\n",
       "3    SynthImageDataset/2425/1/110_savannas_67969.jpg    SAVANNAS\n",
       "4       SynthImageDataset/2425/1/109_unfix_82473.jpg       UNFIX"
      ]
     },
     "execution_count": 6,
     "metadata": {},
     "output_type": "execute_result"
    }
   ],
   "source": [
    "train_values = extract_values(train_images)\n",
    "#Add to csv Label for Images\n",
    "train_data['Labels'] = train_values\n",
    "train_data.head()"
   ]
  },
  {
   "attachments": {},
   "cell_type": "markdown",
   "metadata": {},
   "source": [
    "Створюємо csv файли із шляхами до картинок і текстом на них\n",
    "\n",
    "Create Train Data csv file"
   ]
  },
  {
   "cell_type": "code",
   "execution_count": 7,
   "metadata": {},
   "outputs": [],
   "source": [
    "train_data.to_csv('Train_data.csv')"
   ]
  },
  {
   "attachments": {},
   "cell_type": "markdown",
   "metadata": {},
   "source": [
    "Validation Data"
   ]
  },
  {
   "cell_type": "code",
   "execution_count": 8,
   "metadata": {},
   "outputs": [
    {
     "data": {
      "text/html": [
       "<div>\n",
       "<style scoped>\n",
       "    .dataframe tbody tr th:only-of-type {\n",
       "        vertical-align: middle;\n",
       "    }\n",
       "\n",
       "    .dataframe tbody tr th {\n",
       "        vertical-align: top;\n",
       "    }\n",
       "\n",
       "    .dataframe thead th {\n",
       "        text-align: right;\n",
       "    }\n",
       "</style>\n",
       "<table border=\"1\" class=\"dataframe\">\n",
       "  <thead>\n",
       "    <tr style=\"text-align: right;\">\n",
       "      <th></th>\n",
       "      <th>ImageName</th>\n",
       "      <th>Labels</th>\n",
       "    </tr>\n",
       "  </thead>\n",
       "  <tbody>\n",
       "    <tr>\n",
       "      <th>0</th>\n",
       "      <td>SynthImageDataset/2697/6/466_MONIKER_49537.jpg</td>\n",
       "      <td>MONIKER</td>\n",
       "    </tr>\n",
       "    <tr>\n",
       "      <th>1</th>\n",
       "      <td>SynthImageDataset/2697/6/464_FIRESTORM_29099.jpg</td>\n",
       "      <td>FIRESTORM</td>\n",
       "    </tr>\n",
       "    <tr>\n",
       "      <th>2</th>\n",
       "      <td>SynthImageDataset/2697/6/462_Repurchases_64997...</td>\n",
       "      <td>REPURCHASES</td>\n",
       "    </tr>\n",
       "    <tr>\n",
       "      <th>3</th>\n",
       "      <td>SynthImageDataset/2697/6/461_PIGTAIL_57575.jpg</td>\n",
       "      <td>PIGTAIL</td>\n",
       "    </tr>\n",
       "    <tr>\n",
       "      <th>4</th>\n",
       "      <td>SynthImageDataset/2697/6/460_landladies_43270.jpg</td>\n",
       "      <td>LANDLADIES</td>\n",
       "    </tr>\n",
       "  </tbody>\n",
       "</table>\n",
       "</div>"
      ],
      "text/plain": [
       "                                           ImageName       Labels\n",
       "0     SynthImageDataset/2697/6/466_MONIKER_49537.jpg      MONIKER\n",
       "1   SynthImageDataset/2697/6/464_FIRESTORM_29099.jpg    FIRESTORM\n",
       "2  SynthImageDataset/2697/6/462_Repurchases_64997...  REPURCHASES\n",
       "3     SynthImageDataset/2697/6/461_PIGTAIL_57575.jpg      PIGTAIL\n",
       "4  SynthImageDataset/2697/6/460_landladies_43270.jpg   LANDLADIES"
      ]
     },
     "execution_count": 8,
     "metadata": {},
     "output_type": "execute_result"
    }
   ],
   "source": [
    "validation_images = Extract_image_names('SynthImageDataset/annotation_val.txt',12000)\n",
    "val_data = pandas.DataFrame({'ImageName':validation_images})\n",
    "Val_values = extract_values(validation_images)\n",
    "val_data['Labels'] = Val_values\n",
    "val_data.head()"
   ]
  },
  {
   "cell_type": "code",
   "execution_count": 9,
   "metadata": {},
   "outputs": [],
   "source": [
    "val_data.to_csv('Validation_data.csv')"
   ]
  },
  {
   "attachments": {},
   "cell_type": "markdown",
   "metadata": {},
   "source": [
    "Test Data"
   ]
  },
  {
   "cell_type": "code",
   "execution_count": 10,
   "metadata": {},
   "outputs": [
    {
     "data": {
      "text/html": [
       "<div>\n",
       "<style scoped>\n",
       "    .dataframe tbody tr th:only-of-type {\n",
       "        vertical-align: middle;\n",
       "    }\n",
       "\n",
       "    .dataframe tbody tr th {\n",
       "        vertical-align: top;\n",
       "    }\n",
       "\n",
       "    .dataframe thead th {\n",
       "        text-align: right;\n",
       "    }\n",
       "</style>\n",
       "<table border=\"1\" class=\"dataframe\">\n",
       "  <thead>\n",
       "    <tr style=\"text-align: right;\">\n",
       "      <th></th>\n",
       "      <th>ImageName</th>\n",
       "      <th>Labels</th>\n",
       "    </tr>\n",
       "  </thead>\n",
       "  <tbody>\n",
       "    <tr>\n",
       "      <th>0</th>\n",
       "      <td>SynthImageDataset/3000/7/182_slinking_71711.jpg</td>\n",
       "      <td>SLINKING</td>\n",
       "    </tr>\n",
       "    <tr>\n",
       "      <th>1</th>\n",
       "      <td>SynthImageDataset/3000/7/181_REMODELERS_64541.jpg</td>\n",
       "      <td>REMODELERS</td>\n",
       "    </tr>\n",
       "    <tr>\n",
       "      <th>2</th>\n",
       "      <td>SynthImageDataset/3000/7/180_Chronographs_1353...</td>\n",
       "      <td>CHRONOGRAPHS</td>\n",
       "    </tr>\n",
       "    <tr>\n",
       "      <th>3</th>\n",
       "      <td>SynthImageDataset/3000/7/179_Impeaching_38222.jpg</td>\n",
       "      <td>IMPEACHING</td>\n",
       "    </tr>\n",
       "    <tr>\n",
       "      <th>4</th>\n",
       "      <td>SynthImageDataset/3000/7/177_Loots_45256.jpg</td>\n",
       "      <td>LOOTS</td>\n",
       "    </tr>\n",
       "  </tbody>\n",
       "</table>\n",
       "</div>"
      ],
      "text/plain": [
       "                                           ImageName        Labels\n",
       "0    SynthImageDataset/3000/7/182_slinking_71711.jpg      SLINKING\n",
       "1  SynthImageDataset/3000/7/181_REMODELERS_64541.jpg    REMODELERS\n",
       "2  SynthImageDataset/3000/7/180_Chronographs_1353...  CHRONOGRAPHS\n",
       "3  SynthImageDataset/3000/7/179_Impeaching_38222.jpg    IMPEACHING\n",
       "4       SynthImageDataset/3000/7/177_Loots_45256.jpg         LOOTS"
      ]
     },
     "execution_count": 10,
     "metadata": {},
     "output_type": "execute_result"
    }
   ],
   "source": [
    "test_images = Extract_image_names('SynthImageDataset/annotation_test.txt',15000)\n",
    "test_data = pandas.DataFrame({'ImageName':test_images})\n",
    "test_values = extract_values(test_images)\n",
    "test_data['Labels'] = test_values\n",
    "test_data.head()"
   ]
  },
  {
   "cell_type": "code",
   "execution_count": 11,
   "metadata": {},
   "outputs": [],
   "source": [
    "test_data.to_csv('Test_data.csv')"
   ]
  },
  {
   "attachments": {},
   "cell_type": "markdown",
   "metadata": {},
   "source": [
    "Image Processing"
   ]
  },
  {
   "attachments": {},
   "cell_type": "markdown",
   "metadata": {},
   "source": [
    "Перетворення картинок у відтінки сірого\n",
    "\n",
    "Зчитує картинку із файла, перетворює у відтінки сірого і записує у нову папку"
   ]
  },
  {
   "cell_type": "code",
   "execution_count": 12,
   "metadata": {},
   "outputs": [],
   "source": [
    "def img_store_single_channel(destination_folder, files):\n",
    "    \"\"\"\n",
    "    Takes files, distination folder path and \n",
    "    converts the image to single channel gray scale,\n",
    "    stores the image in the destination folder and returns image destination list\n",
    "    \"\"\"\n",
    "    timer_start = datetime.now()\n",
    "    destination_list = []\n",
    "    count = 1\n",
    "    for file in files:\n",
    "        #Removing the extra folder structures\n",
    "        Name = file.split('/')[3]\n",
    "        img = Name.split('_')[1]\n",
    "        destination = destination_folder + str(count) + '_' + img + '.jpg'\n",
    "        cv_img = cv2.imread(file)\n",
    "        #So extracting image from any 1 channel gives a single channel Grayscale image\n",
    "        cv_img_sc = cv_img[:, :, 1]\n",
    "        cv2.imwrite(destination, cv_img_sc)\n",
    "        destination_list.append(destination)\n",
    "        count += 1\n",
    "        if count % 10000 == 0:\n",
    "            print(\"Processed Images: \", count)\n",
    "    print('Time Taken for Processing: ', datetime.now() - timer_start)\n",
    "    return destination_list"
   ]
  },
  {
   "attachments": {},
   "cell_type": "markdown",
   "metadata": {},
   "source": [
    "Обробка картинок\n",
    "\n",
    "Processing Validation Data"
   ]
  },
  {
   "attachments": {},
   "cell_type": "markdown",
   "metadata": {},
   "source": [
    "Оброблені картинки зберіагаються до папки Val_data"
   ]
  },
  {
   "cell_type": "code",
   "execution_count": 13,
   "metadata": {},
   "outputs": [
    {
     "name": "stdout",
     "output_type": "stream",
     "text": [
      "Processed Images:  10000\n",
      "Time Taken for Processing:  0:00:27.882640\n"
     ]
    }
   ],
   "source": [
    "val_data = pandas.read_csv('Validation_data.csv')\n",
    "val_data.drop(['Unnamed: 0'], axis = 1, inplace = True)\n",
    "val_files = val_data['ImageName'].values\n",
    "#os.mkdir('Val_data')\n",
    "val_dest = img_store_single_channel('Val_data/', val_files)"
   ]
  },
  {
   "cell_type": "code",
   "execution_count": 14,
   "metadata": {},
   "outputs": [
    {
     "data": {
      "text/html": [
       "<div>\n",
       "<style scoped>\n",
       "    .dataframe tbody tr th:only-of-type {\n",
       "        vertical-align: middle;\n",
       "    }\n",
       "\n",
       "    .dataframe tbody tr th {\n",
       "        vertical-align: top;\n",
       "    }\n",
       "\n",
       "    .dataframe thead th {\n",
       "        text-align: right;\n",
       "    }\n",
       "</style>\n",
       "<table border=\"1\" class=\"dataframe\">\n",
       "  <thead>\n",
       "    <tr style=\"text-align: right;\">\n",
       "      <th></th>\n",
       "      <th>ImageName</th>\n",
       "      <th>Labels</th>\n",
       "    </tr>\n",
       "  </thead>\n",
       "  <tbody>\n",
       "    <tr>\n",
       "      <th>0</th>\n",
       "      <td>Val_data/1_MONIKER.jpg</td>\n",
       "      <td>MONIKER</td>\n",
       "    </tr>\n",
       "    <tr>\n",
       "      <th>1</th>\n",
       "      <td>Val_data/2_FIRESTORM.jpg</td>\n",
       "      <td>FIRESTORM</td>\n",
       "    </tr>\n",
       "    <tr>\n",
       "      <th>2</th>\n",
       "      <td>Val_data/3_Repurchases.jpg</td>\n",
       "      <td>REPURCHASES</td>\n",
       "    </tr>\n",
       "    <tr>\n",
       "      <th>3</th>\n",
       "      <td>Val_data/4_PIGTAIL.jpg</td>\n",
       "      <td>PIGTAIL</td>\n",
       "    </tr>\n",
       "    <tr>\n",
       "      <th>4</th>\n",
       "      <td>Val_data/5_landladies.jpg</td>\n",
       "      <td>LANDLADIES</td>\n",
       "    </tr>\n",
       "  </tbody>\n",
       "</table>\n",
       "</div>"
      ],
      "text/plain": [
       "                    ImageName       Labels\n",
       "0      Val_data/1_MONIKER.jpg      MONIKER\n",
       "1    Val_data/2_FIRESTORM.jpg    FIRESTORM\n",
       "2  Val_data/3_Repurchases.jpg  REPURCHASES\n",
       "3      Val_data/4_PIGTAIL.jpg      PIGTAIL\n",
       "4   Val_data/5_landladies.jpg   LANDLADIES"
      ]
     },
     "execution_count": 14,
     "metadata": {},
     "output_type": "execute_result"
    }
   ],
   "source": [
    "#Updating Validation Dataframe with new destination file paths\n",
    "val_data['ImageName'] = val_dest\n",
    "val_data.head()"
   ]
  },
  {
   "attachments": {},
   "cell_type": "markdown",
   "metadata": {},
   "source": [
    "Створення фінального валідаційного датафрему з обробленими картинками"
   ]
  },
  {
   "cell_type": "code",
   "execution_count": 15,
   "metadata": {},
   "outputs": [],
   "source": [
    "#Saving the updated Validation Dataframe\n",
    "val_data.to_csv('Validation_Final.csv')"
   ]
  },
  {
   "attachments": {},
   "cell_type": "markdown",
   "metadata": {},
   "source": [
    "Processing Test Data"
   ]
  },
  {
   "cell_type": "code",
   "execution_count": 16,
   "metadata": {},
   "outputs": [
    {
     "name": "stdout",
     "output_type": "stream",
     "text": [
      "Processed Images:  10000\n",
      "Time Taken for Processing:  0:00:51.791081\n"
     ]
    }
   ],
   "source": [
    "test_data = pandas.read_csv('Test_data.csv')\n",
    "test_data.drop(['Unnamed: 0'], axis = 1, inplace = True)\n",
    "test_files = test_data['ImageName'].values\n",
    "#os.mkdir('Test_data')\n",
    "test_dest = img_store_single_channel('Test_data/', test_files)"
   ]
  },
  {
   "cell_type": "code",
   "execution_count": 17,
   "metadata": {},
   "outputs": [
    {
     "data": {
      "text/html": [
       "<div>\n",
       "<style scoped>\n",
       "    .dataframe tbody tr th:only-of-type {\n",
       "        vertical-align: middle;\n",
       "    }\n",
       "\n",
       "    .dataframe tbody tr th {\n",
       "        vertical-align: top;\n",
       "    }\n",
       "\n",
       "    .dataframe thead th {\n",
       "        text-align: right;\n",
       "    }\n",
       "</style>\n",
       "<table border=\"1\" class=\"dataframe\">\n",
       "  <thead>\n",
       "    <tr style=\"text-align: right;\">\n",
       "      <th></th>\n",
       "      <th>ImageName</th>\n",
       "      <th>Labels</th>\n",
       "    </tr>\n",
       "  </thead>\n",
       "  <tbody>\n",
       "    <tr>\n",
       "      <th>0</th>\n",
       "      <td>Test_data/1_slinking.jpg</td>\n",
       "      <td>SLINKING</td>\n",
       "    </tr>\n",
       "    <tr>\n",
       "      <th>1</th>\n",
       "      <td>Test_data/2_REMODELERS.jpg</td>\n",
       "      <td>REMODELERS</td>\n",
       "    </tr>\n",
       "    <tr>\n",
       "      <th>2</th>\n",
       "      <td>Test_data/3_Chronographs.jpg</td>\n",
       "      <td>CHRONOGRAPHS</td>\n",
       "    </tr>\n",
       "    <tr>\n",
       "      <th>3</th>\n",
       "      <td>Test_data/4_Impeaching.jpg</td>\n",
       "      <td>IMPEACHING</td>\n",
       "    </tr>\n",
       "    <tr>\n",
       "      <th>4</th>\n",
       "      <td>Test_data/5_Loots.jpg</td>\n",
       "      <td>LOOTS</td>\n",
       "    </tr>\n",
       "  </tbody>\n",
       "</table>\n",
       "</div>"
      ],
      "text/plain": [
       "                      ImageName        Labels\n",
       "0      Test_data/1_slinking.jpg      SLINKING\n",
       "1    Test_data/2_REMODELERS.jpg    REMODELERS\n",
       "2  Test_data/3_Chronographs.jpg  CHRONOGRAPHS\n",
       "3    Test_data/4_Impeaching.jpg    IMPEACHING\n",
       "4         Test_data/5_Loots.jpg         LOOTS"
      ]
     },
     "execution_count": 17,
     "metadata": {},
     "output_type": "execute_result"
    }
   ],
   "source": [
    "#Updating Test Dataframe with new destination file paths\n",
    "test_data['ImageName'] = test_dest\n",
    "test_data.head()"
   ]
  },
  {
   "cell_type": "code",
   "execution_count": 18,
   "metadata": {},
   "outputs": [],
   "source": [
    "#Saving the updated Test Dataframe\n",
    "test_data.to_csv('Test_Final.csv')"
   ]
  },
  {
   "attachments": {},
   "cell_type": "markdown",
   "metadata": {},
   "source": [
    "Processing Train Data"
   ]
  },
  {
   "cell_type": "code",
   "execution_count": 19,
   "metadata": {},
   "outputs": [
    {
     "name": "stdout",
     "output_type": "stream",
     "text": [
      "Processed Images:  10000\n",
      "Processed Images:  20000\n",
      "Processed Images:  30000\n",
      "Processed Images:  40000\n",
      "Processed Images:  50000\n",
      "Processed Images:  60000\n",
      "Processed Images:  70000\n",
      "Processed Images:  80000\n",
      "Processed Images:  90000\n",
      "Processed Images:  100000\n",
      "Processed Images:  110000\n",
      "Processed Images:  120000\n",
      "Processed Images:  130000\n",
      "Processed Images:  140000\n",
      "Processed Images:  150000\n",
      "Processed Images:  160000\n",
      "Processed Images:  170000\n",
      "Processed Images:  180000\n",
      "Processed Images:  190000\n",
      "Processed Images:  200000\n",
      "Time Taken for Processing:  0:09:07.144117\n"
     ]
    }
   ],
   "source": [
    "train_data = pandas.read_csv('Train_data.csv')\n",
    "train_data.drop(['Unnamed: 0'], axis = 1, inplace = True)\n",
    "train_files = train_data['ImageName'].values\n",
    "#os.mkdir('Train_data')\n",
    "train_dest = img_store_single_channel('Train_data/', train_files)"
   ]
  },
  {
   "cell_type": "code",
   "execution_count": 20,
   "metadata": {},
   "outputs": [
    {
     "data": {
      "text/html": [
       "<div>\n",
       "<style scoped>\n",
       "    .dataframe tbody tr th:only-of-type {\n",
       "        vertical-align: middle;\n",
       "    }\n",
       "\n",
       "    .dataframe tbody tr th {\n",
       "        vertical-align: top;\n",
       "    }\n",
       "\n",
       "    .dataframe thead th {\n",
       "        text-align: right;\n",
       "    }\n",
       "</style>\n",
       "<table border=\"1\" class=\"dataframe\">\n",
       "  <thead>\n",
       "    <tr style=\"text-align: right;\">\n",
       "      <th></th>\n",
       "      <th>ImageName</th>\n",
       "      <th>Labels</th>\n",
       "    </tr>\n",
       "  </thead>\n",
       "  <tbody>\n",
       "    <tr>\n",
       "      <th>0</th>\n",
       "      <td>Train_data/1_Lube.jpg</td>\n",
       "      <td>LUBE</td>\n",
       "    </tr>\n",
       "    <tr>\n",
       "      <th>1</th>\n",
       "      <td>Train_data/2_Spencerian.jpg</td>\n",
       "      <td>SPENCERIAN</td>\n",
       "    </tr>\n",
       "    <tr>\n",
       "      <th>2</th>\n",
       "      <td>Train_data/3_CARPENTER.jpg</td>\n",
       "      <td>CARPENTER</td>\n",
       "    </tr>\n",
       "    <tr>\n",
       "      <th>3</th>\n",
       "      <td>Train_data/4_savannas.jpg</td>\n",
       "      <td>SAVANNAS</td>\n",
       "    </tr>\n",
       "    <tr>\n",
       "      <th>4</th>\n",
       "      <td>Train_data/5_unfix.jpg</td>\n",
       "      <td>UNFIX</td>\n",
       "    </tr>\n",
       "  </tbody>\n",
       "</table>\n",
       "</div>"
      ],
      "text/plain": [
       "                     ImageName      Labels\n",
       "0        Train_data/1_Lube.jpg        LUBE\n",
       "1  Train_data/2_Spencerian.jpg  SPENCERIAN\n",
       "2   Train_data/3_CARPENTER.jpg   CARPENTER\n",
       "3    Train_data/4_savannas.jpg    SAVANNAS\n",
       "4       Train_data/5_unfix.jpg       UNFIX"
      ]
     },
     "execution_count": 20,
     "metadata": {},
     "output_type": "execute_result"
    }
   ],
   "source": [
    "#Updating Train Dataframe with new destination file paths\n",
    "train_data['ImageName'] = train_dest\n",
    "train_data.head()"
   ]
  },
  {
   "cell_type": "code",
   "execution_count": 21,
   "metadata": {},
   "outputs": [],
   "source": [
    "#Saving the updated Train Dataframe\n",
    "train_data.to_csv('Train_Final.csv')"
   ]
  },
  {
   "attachments": {},
   "cell_type": "markdown",
   "metadata": {},
   "source": [
    "Аналіз розміру (розширення) катинок\n",
    "\n",
    "Image Size Analysis"
   ]
  },
  {
   "attachments": {},
   "cell_type": "markdown",
   "metadata": {},
   "source": [
    "Зчитує із масиву filenames шляхи до картинок, відкриває кожну і записує у storage_file назву картинки, її висоту та ширину"
   ]
  },
  {
   "cell_type": "code",
   "execution_count": 22,
   "metadata": {},
   "outputs": [],
   "source": [
    "def Write_Image_Sizes(filenames, storage_file):\n",
    "    \"\"\"\n",
    "    Takes the File names, writes the width and height of images in csv along with file names\n",
    "    \"\"\"\n",
    "    store_file = open(storage_file, 'w+')\n",
    "    store_file.write(\"ImageName,Height,Width\")\n",
    "    store_file.write(\"\\n\")\n",
    "    counter = 0\n",
    "    for file in filenames:\n",
    "        cv_img = cv2.imread(file)\n",
    "        #img.shape gives [img_height, img_width, img_channel] take 0 and 1\n",
    "        store_file.write(str(file) + \",\" + str(cv_img.shape[0]) + \",\" + str(cv_img.shape[1]))\n",
    "        store_file.write(\"\\n\")\n",
    "        counter += 1\n",
    "        if counter % 10000 == 0:\n",
    "            print(\"Processed Images: \", counter)\n",
    "    store_file.close()"
   ]
  },
  {
   "cell_type": "code",
   "execution_count": 23,
   "metadata": {},
   "outputs": [
    {
     "name": "stdout",
     "output_type": "stream",
     "text": [
      "Processed Images:  10000\n",
      "Processed Images:  20000\n",
      "Processed Images:  30000\n",
      "Processed Images:  40000\n",
      "Processed Images:  50000\n",
      "Processed Images:  60000\n",
      "Processed Images:  70000\n",
      "Processed Images:  80000\n",
      "Processed Images:  90000\n",
      "Processed Images:  100000\n",
      "Processed Images:  110000\n",
      "Processed Images:  120000\n",
      "Processed Images:  130000\n",
      "Processed Images:  140000\n",
      "Processed Images:  150000\n",
      "Processed Images:  160000\n",
      "Processed Images:  170000\n",
      "Processed Images:  180000\n",
      "Processed Images:  190000\n",
      "Processed Images:  200000\n"
     ]
    }
   ],
   "source": [
    "train_data = pandas.read_csv('Train_data.csv')\n",
    "Write_Image_Sizes(list(train_data['ImageName'].values), 'Train_image_sizes.csv')"
   ]
  },
  {
   "cell_type": "code",
   "execution_count": 24,
   "metadata": {},
   "outputs": [
    {
     "data": {
      "text/html": [
       "<div>\n",
       "<style scoped>\n",
       "    .dataframe tbody tr th:only-of-type {\n",
       "        vertical-align: middle;\n",
       "    }\n",
       "\n",
       "    .dataframe tbody tr th {\n",
       "        vertical-align: top;\n",
       "    }\n",
       "\n",
       "    .dataframe thead th {\n",
       "        text-align: right;\n",
       "    }\n",
       "</style>\n",
       "<table border=\"1\" class=\"dataframe\">\n",
       "  <thead>\n",
       "    <tr style=\"text-align: right;\">\n",
       "      <th></th>\n",
       "      <th>Height</th>\n",
       "      <th>Width</th>\n",
       "    </tr>\n",
       "  </thead>\n",
       "  <tbody>\n",
       "    <tr>\n",
       "      <th>count</th>\n",
       "      <td>200000.000000</td>\n",
       "      <td>200000.000000</td>\n",
       "    </tr>\n",
       "    <tr>\n",
       "      <th>mean</th>\n",
       "      <td>31.038550</td>\n",
       "      <td>115.668015</td>\n",
       "    </tr>\n",
       "    <tr>\n",
       "      <th>std</th>\n",
       "      <td>0.333698</td>\n",
       "      <td>39.696249</td>\n",
       "    </tr>\n",
       "    <tr>\n",
       "      <th>min</th>\n",
       "      <td>9.000000</td>\n",
       "      <td>1.000000</td>\n",
       "    </tr>\n",
       "    <tr>\n",
       "      <th>25%</th>\n",
       "      <td>31.000000</td>\n",
       "      <td>88.000000</td>\n",
       "    </tr>\n",
       "    <tr>\n",
       "      <th>50%</th>\n",
       "      <td>31.000000</td>\n",
       "      <td>109.000000</td>\n",
       "    </tr>\n",
       "    <tr>\n",
       "      <th>75%</th>\n",
       "      <td>31.000000</td>\n",
       "      <td>136.000000</td>\n",
       "    </tr>\n",
       "    <tr>\n",
       "      <th>max</th>\n",
       "      <td>32.000000</td>\n",
       "      <td>608.000000</td>\n",
       "    </tr>\n",
       "  </tbody>\n",
       "</table>\n",
       "</div>"
      ],
      "text/plain": [
       "              Height          Width\n",
       "count  200000.000000  200000.000000\n",
       "mean       31.038550     115.668015\n",
       "std         0.333698      39.696249\n",
       "min         9.000000       1.000000\n",
       "25%        31.000000      88.000000\n",
       "50%        31.000000     109.000000\n",
       "75%        31.000000     136.000000\n",
       "max        32.000000     608.000000"
      ]
     },
     "execution_count": 24,
     "metadata": {},
     "output_type": "execute_result"
    }
   ],
   "source": [
    "train_img_size = pandas.read_csv('Train_image_sizes.csv')\n",
    "train_img_size.describe()"
   ]
  },
  {
   "cell_type": "code",
   "execution_count": 25,
   "metadata": {},
   "outputs": [
    {
     "name": "stdout",
     "output_type": "stream",
     "text": [
      "Train Images Height 90 percentile : 31.0\n",
      "Train Images Height 99 percentile : 32.0\n",
      "Train Images Width 90 percentile : 167.0\n",
      "Train Images Width 99 percentile : 240.0\n"
     ]
    }
   ],
   "source": [
    "print(\"Train Images Height 90 percentile :\", np.percentile(train_img_size['Height'].values, 90))\n",
    "print(\"Train Images Height 99 percentile :\", np.percentile(train_img_size['Height'].values, 99))\n",
    "print(\"Train Images Width 90 percentile :\", np.percentile(train_img_size['Width'].values, 90))\n",
    "print(\"Train Images Width 99 percentile :\", np.percentile(train_img_size['Width'].values, 99))"
   ]
  },
  {
   "attachments": {},
   "cell_type": "markdown",
   "metadata": {},
   "source": [
    "Це показує, що 90 процентиль висоти картинок 31 піксель, 99 процентиль 32 пікселя\n",
    "\n",
    "А по ширині 90 процентиль 167 пікселів, 99 процентиль 240 пікселів"
   ]
  },
  {
   "attachments": {},
   "cell_type": "markdown",
   "metadata": {},
   "source": [
    "Графік CDF (акумулююча функція) для висот картинок"
   ]
  },
  {
   "cell_type": "code",
   "execution_count": 26,
   "metadata": {},
   "outputs": [],
   "source": [
    "def cdf_image_heights(label_len):\n",
    "    \"\"\"\n",
    "    Takes a list of image heights as input and Plots CDF of image heights\n",
    "    \"\"\"\n",
    "    plt.figure(figsize = (10,6))\n",
    "    count_labels = np.array(label_len)\n",
    "    counts, bin_edges = np.histogram(count_labels, bins = 8, density = True)\n",
    "    pdf = counts / (sum(counts))\n",
    "    cdf = np.cumsum(pdf)\n",
    "    plt.plot(bin_edges[1:], cdf)\n",
    "    plt.xlabel('Height of Images', fontsize = 10)\n",
    "    plt.ylabel('CDF', fontsize = 10)\n",
    "    plt.title('CDF Plot of Image Height', fontsize = 12)\n",
    "    plt.show()"
   ]
  },
  {
   "attachments": {},
   "cell_type": "markdown",
   "metadata": {},
   "source": [
    "Графік CDF (акумулююча функція) для широт картинок"
   ]
  },
  {
   "cell_type": "code",
   "execution_count": 27,
   "metadata": {},
   "outputs": [],
   "source": [
    "def cdf_image_widths(label_len):\n",
    "    \"\"\"\n",
    "    Takes a list of image widths as input and Plots CDF of image widths\n",
    "    \"\"\"\n",
    "    plt.figure(figsize = (10,6))\n",
    "    count_labels = np.array(label_len)\n",
    "    counts, bin_edges = np.histogram(count_labels, bins = 8, density = True)\n",
    "    pdf = counts / (sum(counts))\n",
    "    cdf = np.cumsum(pdf)\n",
    "    plt.plot(bin_edges[1:], cdf)\n",
    "    plt.xlabel('Width of Images', fontsize=10)\n",
    "    plt.ylabel('CDF', fontsize=10)\n",
    "    plt.title('CDF Plot of Image Width', fontsize=12)\n",
    "    plt.show()"
   ]
  },
  {
   "cell_type": "code",
   "execution_count": 28,
   "metadata": {},
   "outputs": [
    {
     "data": {
      "image/png": "[encoded data removed]",
      "text/plain": [
       "<Figure size 1000x600 with 1 Axes>"
      ]
     },
     "metadata": {},
     "output_type": "display_data"
    }
   ],
   "source": [
    "cdf_image_heights(train_img_size['Height'].values)"
   ]
  },
  {
   "attachments": {},
   "cell_type": "markdown",
   "metadata": {},
   "source": [
    "Цей графік показує, що навчальні картинки більш менш рівномірно розподілені по висоті від 29 до 31 пікселя"
   ]
  },
  {
   "cell_type": "code",
   "execution_count": 29,
   "metadata": {},
   "outputs": [
    {
     "data": {
      "image/png": "[encoded data removed]",
      "text/plain": [
       "<Figure size 1000x600 with 1 Axes>"
      ]
     },
     "metadata": {},
     "output_type": "display_data"
    }
   ],
   "source": [
    "cdf_image_widths(train_img_size['Width'].values)"
   ]
  },
  {
   "attachments": {},
   "cell_type": "markdown",
   "metadata": {},
   "source": [
    "Цей графік показує, що 85% ширин картинок десь до 170 пікселів, інші 13% до 250 пікселів, і менше 2% це картинки більшої ширини"
   ]
  },
  {
   "attachments": {},
   "cell_type": "markdown",
   "metadata": {},
   "source": [
    "Враховуючи результати досліждень розміру картинок можна дійти висновку що найкращим розширенням для моделі мало б бути 32х170 пікселів"
   ]
  },
  {
   "attachments": {},
   "cell_type": "markdown",
   "metadata": {},
   "source": [
    "Utility Functions"
   ]
  },
  {
   "cell_type": "code",
   "execution_count": 1,
   "metadata": {},
   "outputs": [],
   "source": [
    "import numpy as np\n",
    "import pandas\n",
    "from PIL import Image as pilImg\n",
    "import os \n",
    "import cv2\n",
    "from datetime import datetime\n",
    "import matplotlib.pyplot as plt\n",
    "import itertools"
   ]
  },
  {
   "cell_type": "code",
   "execution_count": 2,
   "metadata": {},
   "outputs": [],
   "source": [
    "import keras\n",
    "import random\n",
    "from keras import backend as K\n",
    "import warnings\n",
    "warnings.filterwarnings(\"ignore\")"
   ]
  },
  {
   "attachments": {},
   "cell_type": "markdown",
   "metadata": {},
   "source": [
    "Базові константи"
   ]
  },
  {
   "cell_type": "code",
   "execution_count": 3,
   "metadata": {},
   "outputs": [],
   "source": [
    "#Letters present in the Label Text\n",
    "letters = '0123456789ABCDEFGHIJKLMNOPQRSTUVWXYZ'\n",
    "#image height\n",
    "img_h = 32\n",
    "#image width\n",
    "img_w = 170\n",
    "#image Channels\n",
    "img_c = 1\n",
    "# classes for softmax with number of letters +1 for blank space in ctc\n",
    "num_classes = len(letters) + 1\n",
    "batch_size = 64\n",
    "# considering max length of ground truths labels to be 15\n",
    "max_length = 15 "
   ]
  },
  {
   "attachments": {},
   "cell_type": "markdown",
   "metadata": {},
   "source": [
    "Функція необхідна для навчання - перетворює слово на масив із чисел по letters HAT returns [17,10,29]"
   ]
  },
  {
   "cell_type": "code",
   "execution_count": 4,
   "metadata": {},
   "outputs": [],
   "source": [
    "def encode_words_labels(word):\n",
    "    \"\"\"\n",
    "    Encodes the Ground Truth Labels to a list of Values like eg. HAT returns [17,10,29]\n",
    "    \"\"\"\n",
    "    label_lst = []\n",
    "    for char in word:\n",
    "        label_lst.append(letters.find(char)) # keeping 0 for blank and for padding labels\n",
    "    return label_lst"
   ]
  },
  {
   "attachments": {},
   "cell_type": "markdown",
   "metadata": {},
   "source": [
    "Протилежна функція, необхідна для тестування мережі - перетворює масив із значенням літер на слово"
   ]
  },
  {
   "cell_type": "code",
   "execution_count": 5,
   "metadata": {},
   "outputs": [],
   "source": [
    "def words_from_labels(labels):\n",
    "    \"\"\"\n",
    "    converts the list of encoded integer labels to word strings like eg. [17,10,29] returns HAT \n",
    "    \"\"\"\n",
    "    txt = []\n",
    "    for ele in labels:\n",
    "        if ele == len(letters): # last element blank space\n",
    "            txt.append(\" \")\n",
    "        else:\n",
    "            txt.append(letters[ele])\n",
    "    return \"\".join(txt)"
   ]
  },
  {
   "cell_type": "code",
   "execution_count": 6,
   "metadata": {},
   "outputs": [],
   "source": [
    "def ctc_loss_function(args):\n",
    "    \"\"\"\n",
    "    CTC loss function takes the values passed from the model returns the CTC loss using Keras Backend ctc_batch_cost function\n",
    "    \"\"\"\n",
    "    y_pred, y_true, input_length, label_length = args \n",
    "    # since the first couple outputs of the RNN tend to be garbage we need to discard them, found this from other CRNN approaches\n",
    "    # I Tried by including these outputs but the results turned out to be very bad and got very low accuracies on prediction \n",
    "    y_pred = y_pred[:, 2:, :]\n",
    "    return K.ctc_batch_cost(y_true, y_pred, input_length, label_length)   "
   ]
  },
  {
   "attachments": {},
   "cell_type": "markdown",
   "metadata": {},
   "source": [
    "Data Generator"
   ]
  },
  {
   "attachments": {},
   "cell_type": "markdown",
   "metadata": {},
   "source": [
    "Зчитує дані із файлів, та адаптує їх по розміру під мережу\n",
    "\n",
    "Перемішує дані та ітерується по них"
   ]
  },
  {
   "cell_type": "code",
   "execution_count": 7,
   "metadata": {},
   "outputs": [],
   "source": [
    "class DataGenerator(keras.callbacks.Callback):\n",
    "    def __init__(self, img_dirpath, img_w, img_h,\n",
    "                 batch_size, n, output_labels, max_text_len=15):\n",
    "        self.img_h = img_h                    #Image Height\n",
    "        self.img_w = img_w                    #Image Width\n",
    "        self.batch_size = batch_size          #Batch size of Input\n",
    "        self.max_text_len = max_text_len      #Maximum Text length of Labels\n",
    "        self.n = n\n",
    "        self.img_dir = img_dirpath[:self.n]     # images list\n",
    "        self.indexes = list(range(self.n))   #List of indices for each image in img_matrix\n",
    "        self.cur_index = 0                   #Current index which points to image being loaded \n",
    "        self.imgs = np.zeros((self.n, self.img_h, self.img_w))\n",
    "        self.texts =  output_labels[:self.n]                  #List of Ground Truth Label texts\n",
    "\n",
    "   \n",
    "    def build_data(self):\n",
    "        \"\"\"\n",
    "        Build The Image Data\n",
    "        \"\"\"\n",
    "        print(self.n, \" Image Loading start...\")\n",
    "        for i, img_file in enumerate(self.img_dir):\n",
    "            img = cv2.imread(img_file)\n",
    "            img = img[:,:,1]                               #Extracting Single Channel Image\n",
    "            img = cv2.resize(img, (self.img_w, self.img_h))\n",
    "            img = img / 255\n",
    "            self.imgs[i, :, :] = img\n",
    "            if i % 10000 == 0:\n",
    "                print(\"Loaded Images: \", i)\n",
    "           \n",
    "        print(\"Number of Texts matches with Total Number of Images :\", len(self.texts) == self.n)\n",
    "        print(self.n, \" Image Loading finish...\")\n",
    "\n",
    "\n",
    "    def next_data(self): \n",
    "        \"\"\"\n",
    "        Returns image and text data pointed by the current index\n",
    "        \"\"\"\n",
    "        self.cur_index += 1\n",
    "        #If current index becomes more than the number of images, make current index 0 \n",
    "        #and shuffle the indices list for random picking of image and text data\n",
    "        if self.cur_index >= self.n:\n",
    "            self.cur_index = 0\n",
    "            random.shuffle(self.indexes)\n",
    "        return self.imgs[self.indexes[self.cur_index]], self.texts[self.indexes[self.cur_index]]\n",
    "\n",
    "    def next_batch(self):\n",
    "        \"\"\"\n",
    "        Creates a batch of images images and text data equal to the batch_size,\n",
    "        computes the parameters needed for CTC and returns the inputs to the Model\n",
    "        \"\"\"\n",
    "        while True:\n",
    "            X_data = np.ones([self.batch_size, self.img_w, self.img_h, 1])  #Single channel Gray Size Scale images for input\n",
    "            #Initilizing with -1 to aid for padding labels of different lengths\n",
    "            Y_data = np.ones([self.batch_size, self.max_text_len])* -1        #Text labels for input\n",
    "            #input_length for CTC which is the number of time-steps of the RNN output\n",
    "            input_length = np.ones((self.batch_size, 1)) * 40\n",
    "            label_length = np.zeros((self.batch_size, 1))                   #label length for CTC\n",
    "            source_str = []                                                 #List to store Ground Truth Labels\n",
    "            for i in range(self.batch_size):\n",
    "                img, text = self.next_data() #getting the image and text data pointed by current index\n",
    "                img = img.T #taking transpose of image\n",
    "                img = np.expand_dims(img, -1)  #expanding image to have a single channel\n",
    "                X_data[i] = img\n",
    "                label = encode_words_labels(text) # encoding label text to integer list and storing in temp label variable\n",
    "                lbl_len=len(label)\n",
    "                Y_data[i, 0:lbl_len] = label #Storing the label till its length and padding others\n",
    "                label_length[i] = len(label)\n",
    "                source_str.append(text) #storing Ground Truth Labels which will be accessed as reference for calculating metrics\n",
    "            \n",
    "            #Preparing the input for the Model\n",
    "            inputs = {\n",
    "                'img_input': X_data,  \n",
    "                'ground_truth_labels': Y_data,  \n",
    "                'input_length': input_length,  \n",
    "                'label_length': label_length,\n",
    "                'source_str': source_str  # used for visualization only\n",
    "            }\n",
    "            #Preparing output for the Model and intializing to zeros\n",
    "            outputs = {'ctc': np.zeros([self.batch_size])}  \n",
    "            yield (inputs, outputs) # Return the Prepared input and output to the Model"
   ]
  },
  {
   "attachments": {},
   "cell_type": "markdown",
   "metadata": {},
   "source": [
    "Model"
   ]
  },
  {
   "cell_type": "code",
   "execution_count": 31,
   "metadata": {},
   "outputs": [],
   "source": [
    "from keras.layers import Input, Conv2D, MaxPool2D, Dense, MaxPooling2D\n",
    "from keras.layers import Activation, Bidirectional\n",
    "from keras.layers import BatchNormalization, Dropout\n",
    "from keras.layers import Lambda\n",
    "from keras.layers import Reshape\n",
    "from keras.layers import add, concatenate\n",
    "from keras.layers import Reshape\n",
    "from keras.models import Model\n",
    "from keras.layers import LSTM, GRU\n",
    "import tensorflow as tf"
   ]
  },
  {
   "cell_type": "code",
   "execution_count": 32,
   "metadata": {},
   "outputs": [],
   "source": [
    "def Image_text_recogniser_model(stage, drop_out_rate = 0.35):\n",
    "    \"\"\"\n",
    "    Builds the model by taking in the stage variable which specifes the stage,\n",
    "    if the stage is training: model takes inputs required for computing ctc_batch_cost function\n",
    "    else : model takes input as images which is used for prediction\n",
    "    \"\"\"\n",
    "    \n",
    "    if K.image_data_format() == 'channels_first':\n",
    "        input_shape = (1, img_w, img_h)\n",
    "    else:\n",
    "        input_shape = (img_w, img_h, 1)\n",
    "       \n",
    "    model_input = Input(shape = input_shape, name = 'img_input', dtype = 'float32')\n",
    "\n",
    "    # Convolution layer \n",
    "    model = Conv2D(64, (3, 3), padding = 'same', name = 'conv1', kernel_initializer = 'he_normal')(model_input) \n",
    "    model = BatchNormalization()(model)\n",
    "    model = Activation('relu')(model)\n",
    "    model = MaxPooling2D(pool_size = (2, 2), name = 'max1')(model) \n",
    "\n",
    "    model = Conv2D(128, (3, 3), padding = 'same', name = 'conv2', kernel_initializer = 'he_normal')(model) \n",
    "    model = BatchNormalization()(model)\n",
    "    model = Activation('relu')(model)\n",
    "    model = MaxPooling2D(pool_size = (2, 2), name = 'max2')(model) \n",
    "\n",
    "    model = Conv2D(256, (3, 3), padding = 'same', name = 'conv3', kernel_initializer = 'he_normal')(model) \n",
    "    model = BatchNormalization()(model)\n",
    "    model = Activation('relu')(model)\n",
    "    model = Conv2D(256, (3, 3), padding = 'same', name = 'conv4', kernel_initializer = 'he_normal')(model)\n",
    "    model = Dropout(drop_out_rate)(model)\n",
    "    model = BatchNormalization()(model)\n",
    "    model = Activation('relu')(model)\n",
    "    model = MaxPooling2D(pool_size = (1, 2), name = 'max3')(model)  \n",
    "\n",
    "    model = Conv2D(512, (3, 3), padding = 'same', name = 'conv5', kernel_initializer = 'he_normal')(model) \n",
    "    model = BatchNormalization()(model)\n",
    "    model = Activation('relu')(model)\n",
    "    model = Conv2D(512, (3, 3), padding = 'same', name = 'conv6')(model)\n",
    "    model = Dropout(drop_out_rate)(model)\n",
    "    model = BatchNormalization()(model)\n",
    "    model = Activation('relu')(model)\n",
    "    model = MaxPooling2D(pool_size = (1, 2), name = 'max4')(model)\n",
    "\n",
    "    model = Conv2D(512, (2, 2), padding = 'same', kernel_initializer = 'he_normal', name = 'con7')(model)\n",
    "    model = Dropout(0.25)(model)\n",
    "    model = BatchNormalization()(model)\n",
    "    model = Activation('relu')(model)    \n",
    "\n",
    "    # CNN to RNN\n",
    "    model = Reshape(target_shape = ((42, 1024)), name = 'reshape')(model)  \n",
    "    model = Dense(64, activation = 'relu', kernel_initializer = 'he_normal', name = 'dense1')(model)  \n",
    "\n",
    "    # RNN layer\n",
    "    model = Bidirectional(LSTM(256, return_sequences = True, kernel_initializer = 'he_normal'), merge_mode = 'sum')(model)\n",
    "    model = Bidirectional(LSTM(256, return_sequences = True, kernel_initializer = 'he_normal'), merge_mode = 'concat')(model)\n",
    "\n",
    "    # transforms RNN output to character activations:\n",
    "    model = Dense(num_classes, kernel_initializer = 'he_normal',name = 'dense2')(model) \n",
    "    y_pred = Activation('softmax', name = 'softmax')(model)\n",
    "\n",
    "    \n",
    "    labels = Input(name = 'ground_truth_labels', shape = [max_length], dtype = 'float32') \n",
    "    input_length = Input(name = 'input_length', shape = [1], dtype = 'int64') \n",
    "    label_length = Input(name = 'label_length', shape = [1], dtype = 'int64') \n",
    "\n",
    "    #CTC loss function\n",
    "    loss_out = Lambda(ctc_loss_function, output_shape = (1,), name = 'ctc')([y_pred, labels, input_length, label_length]) #(None, 1)\n",
    "\n",
    "    if stage == 'train':\n",
    "        return model_input, y_pred, Model(inputs = [model_input, labels, input_length, label_length], outputs = loss_out)\n",
    "    else:\n",
    "        return Model(inputs = [model_input], outputs = y_pred)     "
   ]
  },
  {
   "cell_type": "code",
   "execution_count": 33,
   "metadata": {},
   "outputs": [
    {
     "name": "stdout",
     "output_type": "stream",
     "text": [
      "Model: \"model_2\"\n",
      "__________________________________________________________________________________________________\n",
      " Layer (type)                   Output Shape         Param #     Connected to                     \n",
      "==================================================================================================\n",
      " img_input (InputLayer)         [(None, 170, 32, 1)  0           []                               \n",
      "                                ]                                                                 \n",
      "                                                                                                  \n",
      " conv1 (Conv2D)                 (None, 170, 32, 64)  640         ['img_input[0][0]']              \n",
      "                                                                                                  \n",
      " batch_normalization_5 (BatchNo  (None, 170, 32, 64)  256        ['conv1[0][0]']                  \n",
      " rmalization)                                                                                     \n",
      "                                                                                                  \n",
      " activation_5 (Activation)      (None, 170, 32, 64)  0           ['batch_normalization_5[0][0]']  \n",
      "                                                                                                  \n",
      " max1 (MaxPooling2D)            (None, 85, 16, 64)   0           ['activation_5[0][0]']           \n",
      "                                                                                                  \n",
      " conv2 (Conv2D)                 (None, 85, 16, 128)  73856       ['max1[0][0]']                   \n",
      "                                                                                                  \n",
      " batch_normalization_6 (BatchNo  (None, 85, 16, 128)  512        ['conv2[0][0]']                  \n",
      " rmalization)                                                                                     \n",
      "                                                                                                  \n",
      " activation_6 (Activation)      (None, 85, 16, 128)  0           ['batch_normalization_6[0][0]']  \n",
      "                                                                                                  \n",
      " max2 (MaxPooling2D)            (None, 42, 8, 128)   0           ['activation_6[0][0]']           \n",
      "                                                                                                  \n",
      " conv3 (Conv2D)                 (None, 42, 8, 256)   295168      ['max2[0][0]']                   \n",
      "                                                                                                  \n",
      " batch_normalization_7 (BatchNo  (None, 42, 8, 256)  1024        ['conv3[0][0]']                  \n",
      " rmalization)                                                                                     \n",
      "                                                                                                  \n",
      " activation_7 (Activation)      (None, 42, 8, 256)   0           ['batch_normalization_7[0][0]']  \n",
      "                                                                                                  \n",
      " conv4 (Conv2D)                 (None, 42, 8, 256)   590080      ['activation_7[0][0]']           \n",
      "                                                                                                  \n",
      " dropout_2 (Dropout)            (None, 42, 8, 256)   0           ['conv4[0][0]']                  \n",
      "                                                                                                  \n",
      " batch_normalization_8 (BatchNo  (None, 42, 8, 256)  1024        ['dropout_2[0][0]']              \n",
      " rmalization)                                                                                     \n",
      "                                                                                                  \n",
      " activation_8 (Activation)      (None, 42, 8, 256)   0           ['batch_normalization_8[0][0]']  \n",
      "                                                                                                  \n",
      " max3 (MaxPooling2D)            (None, 42, 4, 256)   0           ['activation_8[0][0]']           \n",
      "                                                                                                  \n",
      " conv5 (Conv2D)                 (None, 42, 4, 512)   1180160     ['max3[0][0]']                   \n",
      "                                                                                                  \n",
      " batch_normalization_9 (BatchNo  (None, 42, 4, 512)  2048        ['conv5[0][0]']                  \n",
      " rmalization)                                                                                     \n",
      "                                                                                                  \n",
      " activation_9 (Activation)      (None, 42, 4, 512)   0           ['batch_normalization_9[0][0]']  \n",
      "                                                                                                  \n",
      " conv6 (Conv2D)                 (None, 42, 4, 512)   2359808     ['activation_9[0][0]']           \n",
      "                                                                                                  \n",
      " dropout_3 (Dropout)            (None, 42, 4, 512)   0           ['conv6[0][0]']                  \n",
      "                                                                                                  \n",
      " batch_normalization_10 (BatchN  (None, 42, 4, 512)  2048        ['dropout_3[0][0]']              \n",
      " ormalization)                                                                                    \n",
      "                                                                                                  \n",
      " activation_10 (Activation)     (None, 42, 4, 512)   0           ['batch_normalization_10[0][0]'] \n",
      "                                                                                                  \n",
      " max4 (MaxPooling2D)            (None, 42, 2, 512)   0           ['activation_10[0][0]']          \n",
      "                                                                                                  \n",
      " con7 (Conv2D)                  (None, 42, 2, 512)   1049088     ['max4[0][0]']                   \n",
      "                                                                                                  \n",
      " dropout_4 (Dropout)            (None, 42, 2, 512)   0           ['con7[0][0]']                   \n",
      "                                                                                                  \n",
      " batch_normalization_11 (BatchN  (None, 42, 2, 512)  2048        ['dropout_4[0][0]']              \n",
      " ormalization)                                                                                    \n",
      "                                                                                                  \n",
      " activation_11 (Activation)     (None, 42, 2, 512)   0           ['batch_normalization_11[0][0]'] \n",
      "                                                                                                  \n",
      " reshape (Reshape)              (None, 42, 1024)     0           ['activation_11[0][0]']          \n",
      "                                                                                                  \n",
      " dense1 (Dense)                 (None, 42, 64)       65600       ['reshape[0][0]']                \n",
      "                                                                                                  \n",
      " bidirectional_2 (Bidirectional  (None, 42, 256)     657408      ['dense1[0][0]']                 \n",
      " )                                                                                                \n",
      "                                                                                                  \n",
      " bidirectional_3 (Bidirectional  (None, 42, 512)     1050624     ['bidirectional_2[0][0]']        \n",
      " )                                                                                                \n",
      "                                                                                                  \n",
      " dense2 (Dense)                 (None, 42, 37)       18981       ['bidirectional_3[0][0]']        \n",
      "                                                                                                  \n",
      " softmax (Activation)           (None, 42, 37)       0           ['dense2[0][0]']                 \n",
      "                                                                                                  \n",
      " ground_truth_labels (InputLaye  [(None, 15)]        0           []                               \n",
      " r)                                                                                               \n",
      "                                                                                                  \n",
      " input_length (InputLayer)      [(None, 1)]          0           []                               \n",
      "                                                                                                  \n",
      " label_length (InputLayer)      [(None, 1)]          0           []                               \n",
      "                                                                                                  \n",
      " ctc (Lambda)                   (None, 1)            0           ['softmax[0][0]',                \n",
      "                                                                  'ground_truth_labels[0][0]',    \n",
      "                                                                  'input_length[0][0]',           \n",
      "                                                                  'label_length[0][0]']           \n",
      "                                                                                                  \n",
      "==================================================================================================\n",
      "Total params: 7,350,373\n",
      "Trainable params: 7,345,893\n",
      "Non-trainable params: 4,480\n",
      "__________________________________________________________________________________________________\n"
     ]
    }
   ],
   "source": [
    "model_input, y_pred, img_text_recog = Image_text_recogniser_model('train')\n",
    "img_text_recog.summary()"
   ]
  },
  {
   "attachments": {},
   "cell_type": "markdown",
   "metadata": {},
   "source": [
    "Збереження моделі"
   ]
  },
  {
   "cell_type": "code",
   "execution_count": 34,
   "metadata": {},
   "outputs": [],
   "source": [
    "model_to_save = Image_text_recogniser_model('save')\n",
    "config = model_to_save.to_json()\n",
    "with open(\"modelBiggest.json\", \"w\") as outfile:\n",
    "    outfile.write(config)"
   ]
  },
  {
   "attachments": {},
   "cell_type": "markdown",
   "metadata": {},
   "source": [
    "Створення callback"
   ]
  },
  {
   "cell_type": "code",
   "execution_count": 35,
   "metadata": {},
   "outputs": [],
   "source": [
    "# used for visualization\n",
    "# it is a keras backend function used to capture the model ouputs so that it can be used for decoding and calculating metrics\n",
    "test_func = K.function([model_input], [y_pred])"
   ]
  },
  {
   "cell_type": "code",
   "execution_count": 36,
   "metadata": {},
   "outputs": [],
   "source": [
    "def decode_batch(test_func, word_batch):\n",
    "    \"\"\"\n",
    "    Takes the Batch of Predictions and decodes the Predictions by Best Path Decoding and Returns the Output\n",
    "    \"\"\"\n",
    "    out = test_func([word_batch])[0] #returns the predicted output matrix of the model\n",
    "    ret = []\n",
    "    for j in range(out.shape[0]):\n",
    "        out_best = list(np.argmax(out[j, 2:], 1))\n",
    "        out_best = [k for k, g in itertools.groupby(out_best)]\n",
    "        outstr = words_from_labels(out_best)\n",
    "        ret.append(outstr)\n",
    "    return ret"
   ]
  },
  {
   "cell_type": "code",
   "execution_count": 37,
   "metadata": {},
   "outputs": [],
   "source": [
    "def accuracies(actual_labels,predicted_labels,is_train):\n",
    "    \"\"\"\n",
    "    Takes a List of Actual Outputs, predicted Outputs and returns their accuracy and letter accuracy across\n",
    "    all the labels in the list\n",
    "    \"\"\"\n",
    "    accuracy = 0\n",
    "    letter_acc = 0\n",
    "    letter_cnt = 0\n",
    "    count = 0\n",
    "    for i in range(len(actual_labels)):\n",
    "        predicted_output = predicted_labels[i]\n",
    "        actual_output = actual_labels[i]\n",
    "        count += 1\n",
    "        for j in range(min(len(predicted_output), len(actual_output))):\n",
    "            if predicted_output[j] == actual_output[j]:\n",
    "                letter_acc += 1\n",
    "        letter_cnt += max(len(predicted_output),len(actual_output))\n",
    "        if actual_output == predicted_output:\n",
    "            accuracy += 1\n",
    "    final_accuracy = np.round((accuracy/len(actual_labels))*100, 2)\n",
    "    final_letter_acc = np.round((letter_acc/letter_cnt)*100, 2)\n",
    "    return final_accuracy, final_letter_acc"
   ]
  },
  {
   "cell_type": "code",
   "execution_count": 14,
   "metadata": {},
   "outputs": [],
   "source": [
    "class VizCallback(keras.callbacks.Callback):\n",
    "    \"\"\"\n",
    "    The Custom Callback created for printing the Accuracy and Letter Accuracy Metrics at the End of Each Epoch\n",
    "    \"\"\"\n",
    "\n",
    "    def __init__(self, test_func, text_img_gen,is_train,acc_compute_batches):\n",
    "        self.test_func = test_func\n",
    "        self.text_img_gen = text_img_gen\n",
    "        self.is_train = is_train                #used to indicate whether the callback is called to for Train or Validation Data\n",
    "        self.acc_batches = acc_compute_batches  # Number of Batches for which the metrics are computed typically equal to steps/epoch\n",
    "\n",
    "    def show_accuracy_metrics(self,num_batches):\n",
    "        \"\"\"\n",
    "        Calculates the accuracy and letter accuracy for each batch of inputs, \n",
    "        and prints the avarage accuracy and letter accuracy across all the batches\n",
    "        \"\"\"\n",
    "        accuracy = 0\n",
    "        letter_accuracy = 0\n",
    "        batches_cnt = num_batches\n",
    "        while batches_cnt > 0:\n",
    "            word_batch = next(self.text_img_gen)[0]   #Gets the next batch from the Data generator\n",
    "            decoded_res = decode_batch(self.test_func,word_batch['img_input'])\n",
    "            actual_res = word_batch['source_str']\n",
    "            acc, let_acc = accuracies(actual_res, decoded_res, self.is_train)\n",
    "            accuracy += acc\n",
    "            letter_accuracy += let_acc\n",
    "            batches_cnt -= 1\n",
    "        accuracy = accuracy/num_batches\n",
    "        letter_accuracy = letter_accuracy/num_batches\n",
    "        if self.is_train:\n",
    "            print(\"Train Average Accuracy of \" + str(num_batches) + \" Batches: \", np.round(accuracy, 2), \" %\")\n",
    "            print(\"Train Average Letter Accuracy of \" + str(num_batches) + \" Batches: \", np.round(letter_accuracy, 2), \" %\")\n",
    "        else:\n",
    "            print(\"Validation Average Accuracy of \" + str(num_batches) + \" Batches: \", np.round(accuracy, 2), \" %\")\n",
    "            print(\"Validation Average Letter Accuracy of \" + str(num_batches) + \" Batches: \", np.round(letter_accuracy, 2), \" %\")\n",
    "            \n",
    "        \n",
    "    def on_epoch_end(self, epoch, logs={}):\n",
    "        self.show_accuracy_metrics(self.acc_batches)"
   ]
  },
  {
   "cell_type": "code",
   "execution_count": 38,
   "metadata": {},
   "outputs": [],
   "source": [
    "from keras.callbacks import EarlyStopping,ModelCheckpoint\n",
    "early_stop = EarlyStopping(monitor = 'val_loss', patience=2, restore_best_weights=True)\n",
    "#del  save_weights_only=True,\n",
    "model_chk_pt = ModelCheckpoint('BiggestModel.{epoch:02d}-{val_loss:.2f}.h5', monitor='val_loss', save_best_only=True, verbose=1, mode = 'auto')"
   ]
  },
  {
   "attachments": {},
   "cell_type": "markdown",
   "metadata": {},
   "source": [
    "Зчитуєм дані"
   ]
  },
  {
   "attachments": {},
   "cell_type": "markdown",
   "metadata": {},
   "source": [
    "Train data"
   ]
  },
  {
   "cell_type": "code",
   "execution_count": 16,
   "metadata": {},
   "outputs": [],
   "source": [
    "train_data = pandas.read_csv('Train_Final.csv')"
   ]
  },
  {
   "cell_type": "code",
   "execution_count": 17,
   "metadata": {},
   "outputs": [],
   "source": [
    "train_labels = [str(x) for x in train_data['Labels'].values]\n",
    "train_paths = [str(x) for x in train_data['ImageName'].values]"
   ]
  },
  {
   "attachments": {},
   "cell_type": "markdown",
   "metadata": {},
   "source": [
    "У датасеті не усі папки заповнені, є серед них пусті де мали б бути картинки. Ці елементи прописані у файлах, а на практиці їх не існує\n",
    "\n",
    "Такі елементи потрібно проігнорувати"
   ]
  },
  {
   "cell_type": "code",
   "execution_count": 18,
   "metadata": {},
   "outputs": [
    {
     "data": {
      "text/plain": [
       "3"
      ]
     },
     "execution_count": 18,
     "metadata": {},
     "output_type": "execute_result"
    }
   ],
   "source": [
    "train_nan_cnt = 0\n",
    "train_nan_replaced = False\n",
    "for i in range(len(train_labels)):\n",
    "    if train_labels[i] == 'nan':\n",
    "        train_labels[i] = 'NULL'\n",
    "        train_nan_replaced = True\n",
    "        train_nan_cnt += 1\n",
    "train_nan_cnt"
   ]
  },
  {
   "attachments": {},
   "cell_type": "markdown",
   "metadata": {},
   "source": [
    "Validation data"
   ]
  },
  {
   "cell_type": "code",
   "execution_count": 19,
   "metadata": {},
   "outputs": [],
   "source": [
    "validation_data = pandas.read_csv('Validation_Final.csv')"
   ]
  },
  {
   "cell_type": "code",
   "execution_count": 20,
   "metadata": {},
   "outputs": [],
   "source": [
    "validation_labels = [str(x) for x in validation_data['Labels'].values]\n",
    "validation_paths = [str(x) for x in validation_data['ImageName'].values]"
   ]
  },
  {
   "cell_type": "code",
   "execution_count": 21,
   "metadata": {},
   "outputs": [
    {
     "data": {
      "text/plain": [
       "0"
      ]
     },
     "execution_count": 21,
     "metadata": {},
     "output_type": "execute_result"
    }
   ],
   "source": [
    "validation_nan_cnt = 0\n",
    "validation_nan_replaced = False\n",
    "for i in range(len(validation_labels)):\n",
    "    if validation_labels[i] == 'nan':\n",
    "        validation_labels[i] = 'NULL'\n",
    "        validation_nan_replaced = True\n",
    "        validation_nan_cnt += 1\n",
    "validation_nan_cnt"
   ]
  },
  {
   "cell_type": "code",
   "execution_count": 22,
   "metadata": {},
   "outputs": [],
   "source": [
    "train_gene = DataGenerator(train_paths, img_w, img_h, batch_size, 200000, train_labels)"
   ]
  },
  {
   "cell_type": "code",
   "execution_count": 23,
   "metadata": {},
   "outputs": [
    {
     "name": "stdout",
     "output_type": "stream",
     "text": [
      "200000  Image Loading start...\n",
      "Loaded Images:  0\n",
      "Loaded Images:  10000\n",
      "Loaded Images:  20000\n",
      "Loaded Images:  30000\n",
      "Loaded Images:  40000\n",
      "Loaded Images:  50000\n",
      "Loaded Images:  60000\n",
      "Loaded Images:  70000\n",
      "Loaded Images:  80000\n",
      "Loaded Images:  90000\n",
      "Loaded Images:  100000\n",
      "Loaded Images:  110000\n",
      "Loaded Images:  120000\n",
      "Loaded Images:  130000\n",
      "Loaded Images:  140000\n",
      "Loaded Images:  150000\n",
      "Loaded Images:  160000\n",
      "Loaded Images:  170000\n",
      "Loaded Images:  180000\n",
      "Loaded Images:  190000\n",
      "Number of Texts matches with Total Number of Images : True\n",
      "200000  Image Loading finish...\n"
     ]
    }
   ],
   "source": [
    "train_gene.build_data()"
   ]
  },
  {
   "cell_type": "code",
   "execution_count": 24,
   "metadata": {},
   "outputs": [],
   "source": [
    "train_num_batches = int(train_gene.n/batch_size)\n",
    "viz_cb_train = VizCallback(test_func, train_gene.next_batch(), True, train_num_batches)"
   ]
  },
  {
   "cell_type": "code",
   "execution_count": 25,
   "metadata": {},
   "outputs": [],
   "source": [
    "val_gen = DataGenerator(validation_paths, img_w, img_h, batch_size, 12000, validation_labels)"
   ]
  },
  {
   "cell_type": "code",
   "execution_count": 26,
   "metadata": {},
   "outputs": [
    {
     "name": "stdout",
     "output_type": "stream",
     "text": [
      "12000  Image Loading start...\n",
      "Loaded Images:  0\n",
      "Loaded Images:  10000\n",
      "Number of Texts matches with Total Number of Images : True\n",
      "12000  Image Loading finish...\n"
     ]
    }
   ],
   "source": [
    "val_gen.build_data()"
   ]
  },
  {
   "cell_type": "code",
   "execution_count": 27,
   "metadata": {},
   "outputs": [],
   "source": [
    "val_num_batches = int(val_gen.n / batch_size)\n",
    "viz_cb_val = VizCallback(test_func, val_gen.next_batch(), False, val_num_batches)"
   ]
  },
  {
   "attachments": {},
   "cell_type": "markdown",
   "metadata": {},
   "source": [
    "Optimizer"
   ]
  },
  {
   "cell_type": "code",
   "execution_count": 40,
   "metadata": {},
   "outputs": [],
   "source": [
    "from keras import optimizers\n",
    "adam = optimizers.Adam()\n",
    "#loss ={'ctc': lambda y_true, y_pred: y_pred}\n",
    "img_text_recog.compile(loss = {'ctc': lambda y_true, y_pred: y_pred}, optimizer = adam)"
   ]
  },
  {
   "attachments": {},
   "cell_type": "markdown",
   "metadata": {},
   "source": [
    "Train"
   ]
  },
  {
   "attachments": {},
   "cell_type": "markdown",
   "metadata": {},
   "source": [
    "First Fit"
   ]
  },
  {
   "cell_type": "code",
   "execution_count": 42,
   "metadata": {},
   "outputs": [
    {
     "name": "stdout",
     "output_type": "stream",
     "text": [
      "   4/3125 [..............................] - ETA: 2:58:25 - loss: 2.0383"
     ]
    },
    {
     "ename": "KeyboardInterrupt",
     "evalue": "",
     "output_type": "error",
     "traceback": [
      "\u001b[1;31m---------------------------------------------------------------------------\u001b[0m",
      "\u001b[1;31mKeyboardInterrupt\u001b[0m                         Traceback (most recent call last)",
      "Cell \u001b[1;32mIn[42], line 1\u001b[0m\n\u001b[1;32m----> 1\u001b[0m img_text_recog\u001b[39m.\u001b[39;49mfit(train_gene\u001b[39m.\u001b[39;49mnext_batch(),\n\u001b[0;32m      2\u001b[0m                     steps_per_epoch \u001b[39m=\u001b[39;49m \u001b[39mint\u001b[39;49m(train_gene\u001b[39m.\u001b[39;49mn \u001b[39m/\u001b[39;49m batch_size),\n\u001b[0;32m      3\u001b[0m                     epochs \u001b[39m=\u001b[39;49m \u001b[39m1\u001b[39;49m,\n\u001b[0;32m      4\u001b[0m                     callbacks\u001b[39m=\u001b[39;49m[viz_cb_train,viz_cb_val,train_gene,val_gen,early_stop,model_chk_pt],\n\u001b[0;32m      5\u001b[0m                     validation_data \u001b[39m=\u001b[39;49m val_gen\u001b[39m.\u001b[39;49mnext_batch(),\n\u001b[0;32m      6\u001b[0m                     validation_steps \u001b[39m=\u001b[39;49m \u001b[39mint\u001b[39;49m(val_gen\u001b[39m.\u001b[39;49mn \u001b[39m/\u001b[39;49m batch_size))\n",
      "File \u001b[1;32mc:\\Users\\jura1\\AppData\\Local\\Programs\\Python\\Python310\\lib\\site-packages\\keras\\utils\\traceback_utils.py:65\u001b[0m, in \u001b[0;36mfilter_traceback.<locals>.error_handler\u001b[1;34m(*args, **kwargs)\u001b[0m\n\u001b[0;32m     63\u001b[0m filtered_tb \u001b[39m=\u001b[39m \u001b[39mNone\u001b[39;00m\n\u001b[0;32m     64\u001b[0m \u001b[39mtry\u001b[39;00m:\n\u001b[1;32m---> 65\u001b[0m     \u001b[39mreturn\u001b[39;00m fn(\u001b[39m*\u001b[39margs, \u001b[39m*\u001b[39m\u001b[39m*\u001b[39mkwargs)\n\u001b[0;32m     66\u001b[0m \u001b[39mexcept\u001b[39;00m \u001b[39mException\u001b[39;00m \u001b[39mas\u001b[39;00m e:\n\u001b[0;32m     67\u001b[0m     filtered_tb \u001b[39m=\u001b[39m _process_traceback_frames(e\u001b[39m.\u001b[39m__traceback__)\n",
      "File \u001b[1;32mc:\\Users\\jura1\\AppData\\Local\\Programs\\Python\\Python310\\lib\\site-packages\\keras\\engine\\training.py:1650\u001b[0m, in \u001b[0;36mModel.fit\u001b[1;34m(self, x, y, batch_size, epochs, verbose, callbacks, validation_split, validation_data, shuffle, class_weight, sample_weight, initial_epoch, steps_per_epoch, validation_steps, validation_batch_size, validation_freq, max_queue_size, workers, use_multiprocessing)\u001b[0m\n\u001b[0;32m   1642\u001b[0m \u001b[39mwith\u001b[39;00m tf\u001b[39m.\u001b[39mprofiler\u001b[39m.\u001b[39mexperimental\u001b[39m.\u001b[39mTrace(\n\u001b[0;32m   1643\u001b[0m     \u001b[39m\"\u001b[39m\u001b[39mtrain\u001b[39m\u001b[39m\"\u001b[39m,\n\u001b[0;32m   1644\u001b[0m     epoch_num\u001b[39m=\u001b[39mepoch,\n\u001b[1;32m   (...)\u001b[0m\n\u001b[0;32m   1647\u001b[0m     _r\u001b[39m=\u001b[39m\u001b[39m1\u001b[39m,\n\u001b[0;32m   1648\u001b[0m ):\n\u001b[0;32m   1649\u001b[0m     callbacks\u001b[39m.\u001b[39mon_train_batch_begin(step)\n\u001b[1;32m-> 1650\u001b[0m     tmp_logs \u001b[39m=\u001b[39m \u001b[39mself\u001b[39;49m\u001b[39m.\u001b[39;49mtrain_function(iterator)\n\u001b[0;32m   1651\u001b[0m     \u001b[39mif\u001b[39;00m data_handler\u001b[39m.\u001b[39mshould_sync:\n\u001b[0;32m   1652\u001b[0m         context\u001b[39m.\u001b[39masync_wait()\n",
      "File \u001b[1;32mc:\\Users\\jura1\\AppData\\Local\\Programs\\Python\\Python310\\lib\\site-packages\\tensorflow\\python\\util\\traceback_utils.py:150\u001b[0m, in \u001b[0;36mfilter_traceback.<locals>.error_handler\u001b[1;34m(*args, **kwargs)\u001b[0m\n\u001b[0;32m    148\u001b[0m filtered_tb \u001b[39m=\u001b[39m \u001b[39mNone\u001b[39;00m\n\u001b[0;32m    149\u001b[0m \u001b[39mtry\u001b[39;00m:\n\u001b[1;32m--> 150\u001b[0m   \u001b[39mreturn\u001b[39;00m fn(\u001b[39m*\u001b[39margs, \u001b[39m*\u001b[39m\u001b[39m*\u001b[39mkwargs)\n\u001b[0;32m    151\u001b[0m \u001b[39mexcept\u001b[39;00m \u001b[39mException\u001b[39;00m \u001b[39mas\u001b[39;00m e:\n\u001b[0;32m    152\u001b[0m   filtered_tb \u001b[39m=\u001b[39m _process_traceback_frames(e\u001b[39m.\u001b[39m__traceback__)\n",
      "File \u001b[1;32mc:\\Users\\jura1\\AppData\\Local\\Programs\\Python\\Python310\\lib\\site-packages\\tensorflow\\python\\eager\\polymorphic_function\\polymorphic_function.py:880\u001b[0m, in \u001b[0;36mFunction.__call__\u001b[1;34m(self, *args, **kwds)\u001b[0m\n\u001b[0;32m    877\u001b[0m compiler \u001b[39m=\u001b[39m \u001b[39m\"\u001b[39m\u001b[39mxla\u001b[39m\u001b[39m\"\u001b[39m \u001b[39mif\u001b[39;00m \u001b[39mself\u001b[39m\u001b[39m.\u001b[39m_jit_compile \u001b[39melse\u001b[39;00m \u001b[39m\"\u001b[39m\u001b[39mnonXla\u001b[39m\u001b[39m\"\u001b[39m\n\u001b[0;32m    879\u001b[0m \u001b[39mwith\u001b[39;00m OptionalXlaContext(\u001b[39mself\u001b[39m\u001b[39m.\u001b[39m_jit_compile):\n\u001b[1;32m--> 880\u001b[0m   result \u001b[39m=\u001b[39m \u001b[39mself\u001b[39m\u001b[39m.\u001b[39m_call(\u001b[39m*\u001b[39margs, \u001b[39m*\u001b[39m\u001b[39m*\u001b[39mkwds)\n\u001b[0;32m    882\u001b[0m new_tracing_count \u001b[39m=\u001b[39m \u001b[39mself\u001b[39m\u001b[39m.\u001b[39mexperimental_get_tracing_count()\n\u001b[0;32m    883\u001b[0m without_tracing \u001b[39m=\u001b[39m (tracing_count \u001b[39m==\u001b[39m new_tracing_count)\n",
      "File \u001b[1;32mc:\\Users\\jura1\\AppData\\Local\\Programs\\Python\\Python310\\lib\\site-packages\\tensorflow\\python\\eager\\polymorphic_function\\polymorphic_function.py:912\u001b[0m, in \u001b[0;36mFunction._call\u001b[1;34m(self, *args, **kwds)\u001b[0m\n\u001b[0;32m    909\u001b[0m   \u001b[39mself\u001b[39m\u001b[39m.\u001b[39m_lock\u001b[39m.\u001b[39mrelease()\n\u001b[0;32m    910\u001b[0m   \u001b[39m# In this case we have created variables on the first call, so we run the\u001b[39;00m\n\u001b[0;32m    911\u001b[0m   \u001b[39m# defunned version which is guaranteed to never create variables.\u001b[39;00m\n\u001b[1;32m--> 912\u001b[0m   \u001b[39mreturn\u001b[39;00m \u001b[39mself\u001b[39m\u001b[39m.\u001b[39m_no_variable_creation_fn(\u001b[39m*\u001b[39margs, \u001b[39m*\u001b[39m\u001b[39m*\u001b[39mkwds)  \u001b[39m# pylint: disable=not-callable\u001b[39;00m\n\u001b[0;32m    913\u001b[0m \u001b[39melif\u001b[39;00m \u001b[39mself\u001b[39m\u001b[39m.\u001b[39m_variable_creation_fn \u001b[39mis\u001b[39;00m \u001b[39mnot\u001b[39;00m \u001b[39mNone\u001b[39;00m:\n\u001b[0;32m    914\u001b[0m   \u001b[39m# Release the lock early so that multiple threads can perform the call\u001b[39;00m\n\u001b[0;32m    915\u001b[0m   \u001b[39m# in parallel.\u001b[39;00m\n\u001b[0;32m    916\u001b[0m   \u001b[39mself\u001b[39m\u001b[39m.\u001b[39m_lock\u001b[39m.\u001b[39mrelease()\n",
      "File \u001b[1;32mc:\\Users\\jura1\\AppData\\Local\\Programs\\Python\\Python310\\lib\\site-packages\\tensorflow\\python\\eager\\polymorphic_function\\tracing_compiler.py:134\u001b[0m, in \u001b[0;36mTracingCompiler.__call__\u001b[1;34m(self, *args, **kwargs)\u001b[0m\n\u001b[0;32m    131\u001b[0m \u001b[39mwith\u001b[39;00m \u001b[39mself\u001b[39m\u001b[39m.\u001b[39m_lock:\n\u001b[0;32m    132\u001b[0m   (concrete_function,\n\u001b[0;32m    133\u001b[0m    filtered_flat_args) \u001b[39m=\u001b[39m \u001b[39mself\u001b[39m\u001b[39m.\u001b[39m_maybe_define_function(args, kwargs)\n\u001b[1;32m--> 134\u001b[0m \u001b[39mreturn\u001b[39;00m concrete_function\u001b[39m.\u001b[39;49m_call_flat(\n\u001b[0;32m    135\u001b[0m     filtered_flat_args, captured_inputs\u001b[39m=\u001b[39;49mconcrete_function\u001b[39m.\u001b[39;49mcaptured_inputs)\n",
      "File \u001b[1;32mc:\\Users\\jura1\\AppData\\Local\\Programs\\Python\\Python310\\lib\\site-packages\\tensorflow\\python\\eager\\polymorphic_function\\monomorphic_function.py:1745\u001b[0m, in \u001b[0;36mConcreteFunction._call_flat\u001b[1;34m(self, args, captured_inputs, cancellation_manager)\u001b[0m\n\u001b[0;32m   1741\u001b[0m possible_gradient_type \u001b[39m=\u001b[39m gradients_util\u001b[39m.\u001b[39mPossibleTapeGradientTypes(args)\n\u001b[0;32m   1742\u001b[0m \u001b[39mif\u001b[39;00m (possible_gradient_type \u001b[39m==\u001b[39m gradients_util\u001b[39m.\u001b[39mPOSSIBLE_GRADIENT_TYPES_NONE\n\u001b[0;32m   1743\u001b[0m     \u001b[39mand\u001b[39;00m executing_eagerly):\n\u001b[0;32m   1744\u001b[0m   \u001b[39m# No tape is watching; skip to running the function.\u001b[39;00m\n\u001b[1;32m-> 1745\u001b[0m   \u001b[39mreturn\u001b[39;00m \u001b[39mself\u001b[39m\u001b[39m.\u001b[39m_build_call_outputs(\u001b[39mself\u001b[39;49m\u001b[39m.\u001b[39;49m_inference_function\u001b[39m.\u001b[39;49mcall(\n\u001b[0;32m   1746\u001b[0m       ctx, args, cancellation_manager\u001b[39m=\u001b[39;49mcancellation_manager))\n\u001b[0;32m   1747\u001b[0m forward_backward \u001b[39m=\u001b[39m \u001b[39mself\u001b[39m\u001b[39m.\u001b[39m_select_forward_and_backward_functions(\n\u001b[0;32m   1748\u001b[0m     args,\n\u001b[0;32m   1749\u001b[0m     possible_gradient_type,\n\u001b[0;32m   1750\u001b[0m     executing_eagerly)\n\u001b[0;32m   1751\u001b[0m forward_function, args_with_tangents \u001b[39m=\u001b[39m forward_backward\u001b[39m.\u001b[39mforward()\n",
      "File \u001b[1;32mc:\\Users\\jura1\\AppData\\Local\\Programs\\Python\\Python310\\lib\\site-packages\\tensorflow\\python\\eager\\polymorphic_function\\monomorphic_function.py:378\u001b[0m, in \u001b[0;36m_EagerDefinedFunction.call\u001b[1;34m(self, ctx, args, cancellation_manager)\u001b[0m\n\u001b[0;32m    376\u001b[0m \u001b[39mwith\u001b[39;00m _InterpolateFunctionError(\u001b[39mself\u001b[39m):\n\u001b[0;32m    377\u001b[0m   \u001b[39mif\u001b[39;00m cancellation_manager \u001b[39mis\u001b[39;00m \u001b[39mNone\u001b[39;00m:\n\u001b[1;32m--> 378\u001b[0m     outputs \u001b[39m=\u001b[39m execute\u001b[39m.\u001b[39;49mexecute(\n\u001b[0;32m    379\u001b[0m         \u001b[39mstr\u001b[39;49m(\u001b[39mself\u001b[39;49m\u001b[39m.\u001b[39;49msignature\u001b[39m.\u001b[39;49mname),\n\u001b[0;32m    380\u001b[0m         num_outputs\u001b[39m=\u001b[39;49m\u001b[39mself\u001b[39;49m\u001b[39m.\u001b[39;49m_num_outputs,\n\u001b[0;32m    381\u001b[0m         inputs\u001b[39m=\u001b[39;49margs,\n\u001b[0;32m    382\u001b[0m         attrs\u001b[39m=\u001b[39;49mattrs,\n\u001b[0;32m    383\u001b[0m         ctx\u001b[39m=\u001b[39;49mctx)\n\u001b[0;32m    384\u001b[0m   \u001b[39melse\u001b[39;00m:\n\u001b[0;32m    385\u001b[0m     outputs \u001b[39m=\u001b[39m execute\u001b[39m.\u001b[39mexecute_with_cancellation(\n\u001b[0;32m    386\u001b[0m         \u001b[39mstr\u001b[39m(\u001b[39mself\u001b[39m\u001b[39m.\u001b[39msignature\u001b[39m.\u001b[39mname),\n\u001b[0;32m    387\u001b[0m         num_outputs\u001b[39m=\u001b[39m\u001b[39mself\u001b[39m\u001b[39m.\u001b[39m_num_outputs,\n\u001b[1;32m   (...)\u001b[0m\n\u001b[0;32m    390\u001b[0m         ctx\u001b[39m=\u001b[39mctx,\n\u001b[0;32m    391\u001b[0m         cancellation_manager\u001b[39m=\u001b[39mcancellation_manager)\n",
      "File \u001b[1;32mc:\\Users\\jura1\\AppData\\Local\\Programs\\Python\\Python310\\lib\\site-packages\\tensorflow\\python\\eager\\execute.py:52\u001b[0m, in \u001b[0;36mquick_execute\u001b[1;34m(op_name, num_outputs, inputs, attrs, ctx, name)\u001b[0m\n\u001b[0;32m     50\u001b[0m \u001b[39mtry\u001b[39;00m:\n\u001b[0;32m     51\u001b[0m   ctx\u001b[39m.\u001b[39mensure_initialized()\n\u001b[1;32m---> 52\u001b[0m   tensors \u001b[39m=\u001b[39m pywrap_tfe\u001b[39m.\u001b[39;49mTFE_Py_Execute(ctx\u001b[39m.\u001b[39;49m_handle, device_name, op_name,\n\u001b[0;32m     53\u001b[0m                                       inputs, attrs, num_outputs)\n\u001b[0;32m     54\u001b[0m \u001b[39mexcept\u001b[39;00m core\u001b[39m.\u001b[39m_NotOkStatusException \u001b[39mas\u001b[39;00m e:\n\u001b[0;32m     55\u001b[0m   \u001b[39mif\u001b[39;00m name \u001b[39mis\u001b[39;00m \u001b[39mnot\u001b[39;00m \u001b[39mNone\u001b[39;00m:\n",
      "\u001b[1;31mKeyboardInterrupt\u001b[0m: "
     ]
    }
   ],
   "source": [
    "img_text_recog.fit(train_gene.next_batch(),\n",
    "                    steps_per_epoch = int(train_gene.n / batch_size),\n",
    "                    epochs = 1,\n",
    "                    callbacks=[viz_cb_train,viz_cb_val,train_gene,val_gen,early_stop,model_chk_pt],\n",
    "                    validation_data = val_gen.next_batch(),\n",
    "                    validation_steps = int(val_gen.n / batch_size))"
   ]
  },
  {
   "cell_type": "code",
   "execution_count": 32,
   "metadata": {},
   "outputs": [],
   "source": [
    "img_text_recog.save('model2_run_weights.h5')"
   ]
  },
  {
   "attachments": {},
   "cell_type": "markdown",
   "metadata": {},
   "source": [
    "Next Fit"
   ]
  },
  {
   "cell_type": "code",
   "execution_count": 43,
   "metadata": {},
   "outputs": [],
   "source": [
    "img_text_recog.load_weights('BiggestModel.03-1.66.h5')"
   ]
  },
  {
   "cell_type": "code",
   "execution_count": 44,
   "metadata": {},
   "outputs": [
    {
     "name": "stdout",
     "output_type": "stream",
     "text": [
      "3125/3125 [==============================] - ETA: 0s - loss: 1.3936Train Average Accuracy of 3125 Batches:  0.0  %\n",
      "Train Average Letter Accuracy of 3125 Batches:  1.66  %\n",
      "Validation Average Accuracy of 187 Batches:  0.0  %\n",
      "Validation Average Letter Accuracy of 187 Batches:  1.68  %\n",
      "\n",
      "Epoch 1: val_loss improved from 1.65879 to 1.43956, saving model to BiggestModel.01-1.44.h5\n",
      "3125/3125 [==============================] - 17472s 6s/step - loss: 1.3936 - val_loss: 1.4396\n"
     ]
    },
    {
     "data": {
      "text/plain": [
       "<keras.callbacks.History at 0x2b07486b040>"
      ]
     },
     "execution_count": 44,
     "metadata": {},
     "output_type": "execute_result"
    }
   ],
   "source": [
    "img_text_recog.fit(train_gene.next_batch(),\n",
    "                    steps_per_epoch = int(train_gene.n / batch_size),\n",
    "                    epochs = 1,\n",
    "                    callbacks=[viz_cb_train,viz_cb_val,train_gene,val_gen,early_stop,model_chk_pt],\n",
    "                    validation_data = val_gen.next_batch(),\n",
    "                    validation_steps = int(val_gen.n / batch_size))"
   ]
  }
 ],
 "metadata": {
  "kernelspec": {
   "display_name": "Python 3",
   "language": "python",
   "name": "python3"
  },
  "language_info": {
   "codemirror_mode": {
    "name": "ipython",
    "version": 3
   },
   "file_extension": ".py",
   "mimetype": "text/x-python",
   "name": "python",
   "nbconvert_exporter": "python",
   "pygments_lexer": "ipython3",
   "version": "3.10.0"
  },
  "orig_nbformat": 4,
  "vscode": {
   "interpreter": {
    "hash": "678e3ccaa3a58c800d7467d2471996571664ff30189a01c5b79df8b5c0af31ce"
   }
  }
 },
 "nbformat": 4,
 "nbformat_minor": 2
}
