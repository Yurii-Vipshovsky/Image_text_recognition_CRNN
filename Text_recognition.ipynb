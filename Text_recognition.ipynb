{
 "cells": [
  {
   "cell_type": "code",
   "execution_count": 1,
   "metadata": {},
   "outputs": [],
   "source": [
    "import numpy as np\n",
    "import pandas\n",
    "from PIL import Image as pilImg\n",
    "import os \n",
    "import cv2\n",
    "from datetime import datetime\n",
    "import matplotlib.pyplot as plt\n",
    "import itertools"
   ]
  },
  {
   "attachments": {},
   "cell_type": "markdown",
   "metadata": {},
   "source": [
    "1. Підготовка Даних із завантаженого датасета із Англійскими словами\n",
    "Source: https://www.robots.ox.ac.uk/~vgg/data/text/#sec-synth"
   ]
  },
  {
   "attachments": {},
   "cell_type": "markdown",
   "metadata": {},
   "source": [
    "Із file_path(шлях до txt файлу із описами картинок) отримує картинки у кількості number\n",
    "Повертає тільки картинки з текстом розміром від 4 до 12 елементів\n",
    "\n",
    "Takes the file path of images annotation txt file with the number of images names to be extracted\n",
    "and returns the list of file names having label length <=12"
   ]
  },
  {
   "cell_type": "code",
   "execution_count": 2,
   "metadata": {},
   "outputs": [],
   "source": [
    "def Extract_image_names(file_path, number):\n",
    "    with open(file_path) as file:\n",
    "        files = file.readlines()\n",
    "        file.close()\n",
    "        count = 0\n",
    "        img_names = []\n",
    "        for f in files:\n",
    "            \"\"\"\n",
    "            Extract from 'SynthImageDataset./2425/1/115_Lube_45484.jpg 45484' only image lable - Lube\n",
    "            \"\"\"\n",
    "            label = f.split('_')[1]\n",
    "            if len(label) >= 4 and len(label) <= 12:\n",
    "                img_names.append(f)\n",
    "                count += 1\n",
    "            if count == number:\n",
    "                break\n",
    "        images_names=['SynthImageDataset' + x.strip() for x in img_names]\n",
    "        return images_names"
   ]
  },
  {
   "cell_type": "code",
   "execution_count": 3,
   "metadata": {},
   "outputs": [
    {
     "data": {
      "text/plain": [
       "['SynthImageDataset./2425/1/115_Lube_45484.jpg 45484',\n",
       " 'SynthImageDataset./2425/1/114_Spencerian_73323.jpg 73323',\n",
       " 'SynthImageDataset./2425/1/112_CARPENTER_11682.jpg 11682',\n",
       " 'SynthImageDataset./2425/1/110_savannas_67969.jpg 67969',\n",
       " 'SynthImageDataset./2425/1/109_unfix_82473.jpg 82473']"
      ]
     },
     "execution_count": 3,
     "metadata": {},
     "output_type": "execute_result"
    }
   ],
   "source": [
    "train_images = Extract_image_names('SynthImageDataset/annotation_train.txt',200000)\n",
    "train_images[:5]"
   ]
  },
  {
   "attachments": {},
   "cell_type": "markdown",
   "metadata": {},
   "source": [
    "Очищує назву файлів забираючи із кінця цифри, що індикують номер картинки"
   ]
  },
  {
   "cell_type": "code",
   "execution_count": 4,
   "metadata": {},
   "outputs": [
    {
     "data": {
      "text/plain": [
       "['SynthImageDataset/2425/1/115_Lube_45484.jpg',\n",
       " 'SynthImageDataset/2425/1/114_Spencerian_73323.jpg',\n",
       " 'SynthImageDataset/2425/1/112_CARPENTER_11682.jpg',\n",
       " 'SynthImageDataset/2425/1/110_savannas_67969.jpg',\n",
       " 'SynthImageDataset/2425/1/109_unfix_82473.jpg']"
      ]
     },
     "execution_count": 4,
     "metadata": {},
     "output_type": "execute_result"
    }
   ],
   "source": [
    "#помістити всередину минулої функції\n",
    "def clean_file_names(file_names):\n",
    "    clean_files = []\n",
    "    for file in file_names:\n",
    "        main_folder, img_loc, extension = file.split('.')\n",
    "        extension = extension.split(' ')[0]\n",
    "        img_file = main_folder + img_loc + '.' + extension\n",
    "        clean_files.append(img_file)\n",
    "    return clean_files\n",
    "\n",
    "\n",
    "train_cleaned = clean_file_names(train_images)\n",
    "\n",
    "train_cleaned[:5]"
   ]
  },
  {
   "cell_type": "code",
   "execution_count": 5,
   "metadata": {},
   "outputs": [
    {
     "data": {
      "text/html": [
       "<div>\n",
       "<style scoped>\n",
       "    .dataframe tbody tr th:only-of-type {\n",
       "        vertical-align: middle;\n",
       "    }\n",
       "\n",
       "    .dataframe tbody tr th {\n",
       "        vertical-align: top;\n",
       "    }\n",
       "\n",
       "    .dataframe thead th {\n",
       "        text-align: right;\n",
       "    }\n",
       "</style>\n",
       "<table border=\"1\" class=\"dataframe\">\n",
       "  <thead>\n",
       "    <tr style=\"text-align: right;\">\n",
       "      <th></th>\n",
       "      <th>ImageName</th>\n",
       "    </tr>\n",
       "  </thead>\n",
       "  <tbody>\n",
       "    <tr>\n",
       "      <th>0</th>\n",
       "      <td>SynthImageDataset/2425/1/115_Lube_45484.jpg</td>\n",
       "    </tr>\n",
       "    <tr>\n",
       "      <th>1</th>\n",
       "      <td>SynthImageDataset/2425/1/114_Spencerian_73323.jpg</td>\n",
       "    </tr>\n",
       "    <tr>\n",
       "      <th>2</th>\n",
       "      <td>SynthImageDataset/2425/1/112_CARPENTER_11682.jpg</td>\n",
       "    </tr>\n",
       "    <tr>\n",
       "      <th>3</th>\n",
       "      <td>SynthImageDataset/2425/1/110_savannas_67969.jpg</td>\n",
       "    </tr>\n",
       "    <tr>\n",
       "      <th>4</th>\n",
       "      <td>SynthImageDataset/2425/1/109_unfix_82473.jpg</td>\n",
       "    </tr>\n",
       "  </tbody>\n",
       "</table>\n",
       "</div>"
      ],
      "text/plain": [
       "                                           ImageName\n",
       "0        SynthImageDataset/2425/1/115_Lube_45484.jpg\n",
       "1  SynthImageDataset/2425/1/114_Spencerian_73323.jpg\n",
       "2   SynthImageDataset/2425/1/112_CARPENTER_11682.jpg\n",
       "3    SynthImageDataset/2425/1/110_savannas_67969.jpg\n",
       "4       SynthImageDataset/2425/1/109_unfix_82473.jpg"
      ]
     },
     "execution_count": 5,
     "metadata": {},
     "output_type": "execute_result"
    }
   ],
   "source": [
    "train_data=pandas.DataFrame({'ImageName':train_cleaned})\n",
    "train_data.head()"
   ]
  },
  {
   "cell_type": "code",
   "execution_count": 6,
   "metadata": {},
   "outputs": [
    {
     "data": {
      "text/html": [
       "<div>\n",
       "<style scoped>\n",
       "    .dataframe tbody tr th:only-of-type {\n",
       "        vertical-align: middle;\n",
       "    }\n",
       "\n",
       "    .dataframe tbody tr th {\n",
       "        vertical-align: top;\n",
       "    }\n",
       "\n",
       "    .dataframe thead th {\n",
       "        text-align: right;\n",
       "    }\n",
       "</style>\n",
       "<table border=\"1\" class=\"dataframe\">\n",
       "  <thead>\n",
       "    <tr style=\"text-align: right;\">\n",
       "      <th></th>\n",
       "      <th>ImageName</th>\n",
       "      <th>Labels</th>\n",
       "    </tr>\n",
       "  </thead>\n",
       "  <tbody>\n",
       "    <tr>\n",
       "      <th>0</th>\n",
       "      <td>SynthImageDataset/2425/1/115_Lube_45484.jpg</td>\n",
       "      <td>LUBE</td>\n",
       "    </tr>\n",
       "    <tr>\n",
       "      <th>1</th>\n",
       "      <td>SynthImageDataset/2425/1/114_Spencerian_73323.jpg</td>\n",
       "      <td>SPENCERIAN</td>\n",
       "    </tr>\n",
       "    <tr>\n",
       "      <th>2</th>\n",
       "      <td>SynthImageDataset/2425/1/112_CARPENTER_11682.jpg</td>\n",
       "      <td>CARPENTER</td>\n",
       "    </tr>\n",
       "    <tr>\n",
       "      <th>3</th>\n",
       "      <td>SynthImageDataset/2425/1/110_savannas_67969.jpg</td>\n",
       "      <td>SAVANNAS</td>\n",
       "    </tr>\n",
       "    <tr>\n",
       "      <th>4</th>\n",
       "      <td>SynthImageDataset/2425/1/109_unfix_82473.jpg</td>\n",
       "      <td>UNFIX</td>\n",
       "    </tr>\n",
       "  </tbody>\n",
       "</table>\n",
       "</div>"
      ],
      "text/plain": [
       "                                           ImageName      Labels\n",
       "0        SynthImageDataset/2425/1/115_Lube_45484.jpg        LUBE\n",
       "1  SynthImageDataset/2425/1/114_Spencerian_73323.jpg  SPENCERIAN\n",
       "2   SynthImageDataset/2425/1/112_CARPENTER_11682.jpg   CARPENTER\n",
       "3    SynthImageDataset/2425/1/110_savannas_67969.jpg    SAVANNAS\n",
       "4       SynthImageDataset/2425/1/109_unfix_82473.jpg       UNFIX"
      ]
     },
     "execution_count": 6,
     "metadata": {},
     "output_type": "execute_result"
    }
   ],
   "source": [
    "def extract_ground_truth(files):\n",
    "    \"\"\"\n",
    "    Given the file names of images, extracts the Ground Truth Values and returns a list of Ground Truth Labels in All Capitals\n",
    "    \"\"\"\n",
    "    txt_labels = []\n",
    "    for file in files:\n",
    "        ground_truth = file.split('_')[1]\n",
    "        ground_truth = ground_truth.upper()\n",
    "        txt_labels.append(ground_truth)\n",
    "    return txt_labels   \n",
    "\n",
    "Train_ground_truths = extract_ground_truth(train_cleaned)\n",
    "#Add to csv Label for Images\n",
    "train_data['Labels'] = Train_ground_truths\n",
    "train_data.head()"
   ]
  },
  {
   "attachments": {},
   "cell_type": "markdown",
   "metadata": {},
   "source": [
    "Create Train Data csv file"
   ]
  },
  {
   "cell_type": "code",
   "execution_count": 7,
   "metadata": {},
   "outputs": [],
   "source": [
    "train_data.to_csv('Train_data.csv')"
   ]
  },
  {
   "attachments": {},
   "cell_type": "markdown",
   "metadata": {},
   "source": [
    "Validation Data"
   ]
  },
  {
   "cell_type": "code",
   "execution_count": 8,
   "metadata": {},
   "outputs": [
    {
     "data": {
      "text/html": [
       "<div>\n",
       "<style scoped>\n",
       "    .dataframe tbody tr th:only-of-type {\n",
       "        vertical-align: middle;\n",
       "    }\n",
       "\n",
       "    .dataframe tbody tr th {\n",
       "        vertical-align: top;\n",
       "    }\n",
       "\n",
       "    .dataframe thead th {\n",
       "        text-align: right;\n",
       "    }\n",
       "</style>\n",
       "<table border=\"1\" class=\"dataframe\">\n",
       "  <thead>\n",
       "    <tr style=\"text-align: right;\">\n",
       "      <th></th>\n",
       "      <th>ImageName</th>\n",
       "      <th>Labels</th>\n",
       "    </tr>\n",
       "  </thead>\n",
       "  <tbody>\n",
       "    <tr>\n",
       "      <th>0</th>\n",
       "      <td>SynthImageDataset/2697/6/466_MONIKER_49537.jpg</td>\n",
       "      <td>MONIKER</td>\n",
       "    </tr>\n",
       "    <tr>\n",
       "      <th>1</th>\n",
       "      <td>SynthImageDataset/2697/6/464_FIRESTORM_29099.jpg</td>\n",
       "      <td>FIRESTORM</td>\n",
       "    </tr>\n",
       "    <tr>\n",
       "      <th>2</th>\n",
       "      <td>SynthImageDataset/2697/6/462_Repurchases_64997...</td>\n",
       "      <td>REPURCHASES</td>\n",
       "    </tr>\n",
       "    <tr>\n",
       "      <th>3</th>\n",
       "      <td>SynthImageDataset/2697/6/461_PIGTAIL_57575.jpg</td>\n",
       "      <td>PIGTAIL</td>\n",
       "    </tr>\n",
       "    <tr>\n",
       "      <th>4</th>\n",
       "      <td>SynthImageDataset/2697/6/460_landladies_43270.jpg</td>\n",
       "      <td>LANDLADIES</td>\n",
       "    </tr>\n",
       "  </tbody>\n",
       "</table>\n",
       "</div>"
      ],
      "text/plain": [
       "                                           ImageName       Labels\n",
       "0     SynthImageDataset/2697/6/466_MONIKER_49537.jpg      MONIKER\n",
       "1   SynthImageDataset/2697/6/464_FIRESTORM_29099.jpg    FIRESTORM\n",
       "2  SynthImageDataset/2697/6/462_Repurchases_64997...  REPURCHASES\n",
       "3     SynthImageDataset/2697/6/461_PIGTAIL_57575.jpg      PIGTAIL\n",
       "4  SynthImageDataset/2697/6/460_landladies_43270.jpg   LANDLADIES"
      ]
     },
     "execution_count": 8,
     "metadata": {},
     "output_type": "execute_result"
    }
   ],
   "source": [
    "Validation_images = Extract_image_names('SynthImageDataset/annotation_val.txt',12000)\n",
    "val_cleaned = clean_file_names(Validation_images)\n",
    "val_data = pandas.DataFrame({'ImageName':val_cleaned})\n",
    "Val_ground_truths = extract_ground_truth(val_cleaned)\n",
    "val_data['Labels'] = Val_ground_truths\n",
    "val_data.head()"
   ]
  },
  {
   "cell_type": "code",
   "execution_count": 9,
   "metadata": {},
   "outputs": [],
   "source": [
    "val_data.to_csv('Validation_data.csv')"
   ]
  },
  {
   "attachments": {},
   "cell_type": "markdown",
   "metadata": {},
   "source": [
    "Test Data"
   ]
  },
  {
   "cell_type": "code",
   "execution_count": 10,
   "metadata": {},
   "outputs": [
    {
     "data": {
      "text/html": [
       "<div>\n",
       "<style scoped>\n",
       "    .dataframe tbody tr th:only-of-type {\n",
       "        vertical-align: middle;\n",
       "    }\n",
       "\n",
       "    .dataframe tbody tr th {\n",
       "        vertical-align: top;\n",
       "    }\n",
       "\n",
       "    .dataframe thead th {\n",
       "        text-align: right;\n",
       "    }\n",
       "</style>\n",
       "<table border=\"1\" class=\"dataframe\">\n",
       "  <thead>\n",
       "    <tr style=\"text-align: right;\">\n",
       "      <th></th>\n",
       "      <th>ImageName</th>\n",
       "      <th>Labels</th>\n",
       "    </tr>\n",
       "  </thead>\n",
       "  <tbody>\n",
       "    <tr>\n",
       "      <th>0</th>\n",
       "      <td>SynthImageDataset/3000/7/182_slinking_71711.jpg</td>\n",
       "      <td>SLINKING</td>\n",
       "    </tr>\n",
       "    <tr>\n",
       "      <th>1</th>\n",
       "      <td>SynthImageDataset/3000/7/181_REMODELERS_64541.jpg</td>\n",
       "      <td>REMODELERS</td>\n",
       "    </tr>\n",
       "    <tr>\n",
       "      <th>2</th>\n",
       "      <td>SynthImageDataset/3000/7/180_Chronographs_1353...</td>\n",
       "      <td>CHRONOGRAPHS</td>\n",
       "    </tr>\n",
       "    <tr>\n",
       "      <th>3</th>\n",
       "      <td>SynthImageDataset/3000/7/179_Impeaching_38222.jpg</td>\n",
       "      <td>IMPEACHING</td>\n",
       "    </tr>\n",
       "    <tr>\n",
       "      <th>4</th>\n",
       "      <td>SynthImageDataset/3000/7/177_Loots_45256.jpg</td>\n",
       "      <td>LOOTS</td>\n",
       "    </tr>\n",
       "  </tbody>\n",
       "</table>\n",
       "</div>"
      ],
      "text/plain": [
       "                                           ImageName        Labels\n",
       "0    SynthImageDataset/3000/7/182_slinking_71711.jpg      SLINKING\n",
       "1  SynthImageDataset/3000/7/181_REMODELERS_64541.jpg    REMODELERS\n",
       "2  SynthImageDataset/3000/7/180_Chronographs_1353...  CHRONOGRAPHS\n",
       "3  SynthImageDataset/3000/7/179_Impeaching_38222.jpg    IMPEACHING\n",
       "4       SynthImageDataset/3000/7/177_Loots_45256.jpg         LOOTS"
      ]
     },
     "execution_count": 10,
     "metadata": {},
     "output_type": "execute_result"
    }
   ],
   "source": [
    "test_images = Extract_image_names('SynthImageDataset/annotation_test.txt',15000)\n",
    "test_cleaned = clean_file_names(test_images)\n",
    "test_data = pandas.DataFrame({'ImageName':test_cleaned})\n",
    "test_ground_truths = extract_ground_truth(test_cleaned)\n",
    "test_data['Labels'] = test_ground_truths\n",
    "test_data.head()"
   ]
  },
  {
   "cell_type": "code",
   "execution_count": 11,
   "metadata": {},
   "outputs": [],
   "source": [
    "test_data.to_csv('Test_data.csv')"
   ]
  },
  {
   "attachments": {},
   "cell_type": "markdown",
   "metadata": {},
   "source": [
    "Image Processing"
   ]
  },
  {
   "cell_type": "code",
   "execution_count": 12,
   "metadata": {},
   "outputs": [],
   "source": [
    "def img_store_single_channel(destination_folder, files):\n",
    "    \"\"\"\n",
    "    Takes the images in a folder, distination folder path and \n",
    "    converts the image to single channel gray scale,\n",
    "    stores the image in the destination folder and returns image destination list\n",
    "    \"\"\"\n",
    "    start = datetime.now()\n",
    "    destination_list = []\n",
    "    count = 1\n",
    "    for file in files:\n",
    "        #Removing the extra folder structures\n",
    "        Name = file.split('/')[3]\n",
    "        img = Name.split('_')[1]\n",
    "        destination = destination_folder + str(count) + '_' + img + '.jpg'\n",
    "        cv_img = cv2.imread(file)\n",
    "        #So extracting image from any 1 channel gives a single channel Grayscale image\n",
    "        cv_img_sc = cv_img[:, :, 1]\n",
    "        cv2.imwrite(destination, cv_img_sc)\n",
    "        destination_list.append(destination)\n",
    "        count += 1\n",
    "#         if count%10000==0:\n",
    "#             print(\"Processed Images: \",count)\n",
    "    print('Time Taken for Processing: ', datetime.now() - start)\n",
    "    return destination_list"
   ]
  },
  {
   "cell_type": "code",
   "execution_count": 17,
   "metadata": {},
   "outputs": [
    {
     "data": {
      "text/plain": [
       "False"
      ]
     },
     "execution_count": 17,
     "metadata": {},
     "output_type": "execute_result"
    }
   ],
   "source": [
    "val_data = pandas.read_csv('Validation_data.csv')\n",
    "val_files = val_data['ImageName'].values\n",
    "val_files[0]\n",
    "cv_img = cv2.imread(val_files[0])\n",
    "# Displaying the image\n",
    "cv2.imshow('image', cv_img)\n",
    "cv2.waitKey()\n",
    "cv_img_sc = cv_img[:, :, 1]\n",
    "cv2.imwrite(r'Val_data\\0_.jpg', cv_img_sc)"
   ]
  },
  {
   "attachments": {},
   "cell_type": "markdown",
   "metadata": {},
   "source": [
    "Processing Validation Data"
   ]
  },
  {
   "cell_type": "code",
   "execution_count": 13,
   "metadata": {},
   "outputs": [
    {
     "ename": "",
     "evalue": "",
     "output_type": "error",
     "traceback": [
      "\u001b[1;31mThe Kernel crashed while executing code in the the current cell or a previous cell. Please review the code in the cell(s) to identify a possible cause of the failure. Click <a href='https://aka.ms/vscodeJupyterKernelCrash'>here</a> for more info. View Jupyter <a href='command:jupyter.viewOutput'>log</a> for further details."
     ]
    }
   ],
   "source": [
    "val_data = pandas.read_csv('Validation_data.csv')\n",
    "val_data.drop(['Unnamed: 0'], axis = 1, inplace = True)\n",
    "val_files = val_data['ImageName'].values\n",
    "val_dest = img_store_single_channel('Val_data/', val_files)"
   ]
  }
 ],
 "metadata": {
  "kernelspec": {
   "display_name": "Python 3",
   "language": "python",
   "name": "python3"
  },
  "language_info": {
   "codemirror_mode": {
    "name": "ipython",
    "version": 3
   },
   "file_extension": ".py",
   "mimetype": "text/x-python",
   "name": "python",
   "nbconvert_exporter": "python",
   "pygments_lexer": "ipython3",
   "version": "3.11.1"
  },
  "orig_nbformat": 4,
  "vscode": {
   "interpreter": {
    "hash": "5f67f7264654895568bb9f927190d8435abf22960740b64607d2720a7858cdc8"
   }
  }
 },
 "nbformat": 4,
 "nbformat_minor": 2
}
