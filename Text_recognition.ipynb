{
 "cells": [
  {
   "cell_type": "code",
   "execution_count": 1,
   "metadata": {},
   "outputs": [],
   "source": [
    "import numpy as np\n",
    "import pandas as pd\n",
    "from PIL import Image as pilImg\n",
    "import os \n",
    "import cv2\n",
    "from datetime import datetime\n",
    "import matplotlib.pyplot as plt\n",
    "import itertools"
   ]
  },
  {
   "attachments": {},
   "cell_type": "markdown",
   "metadata": {},
   "source": [
    "1. Підготовка Даних із завантаженого датасета із Англійскими словами\n",
    "Source: https://www.robots.ox.ac.uk/~vgg/data/text/#sec-synth"
   ]
  },
  {
   "attachments": {},
   "cell_type": "markdown",
   "metadata": {},
   "source": [
    "Із file_path(шлях до txt файлу із описами картинок) отримує картинки у кількості number\n",
    "Повертає тільки картинки з текстом розміром від 4 до 12 елементів\n",
    "\n",
    "Takes the file path of images annotation txt file with the number of images names to be extracted\n",
    "and returns the list of file names having label length <=12"
   ]
  },
  {
   "cell_type": "code",
   "execution_count": 6,
   "metadata": {},
   "outputs": [],
   "source": [
    "def Extract_image_names(file_path, number):\n",
    "    with open(file_path) as file:\n",
    "        files = file.readlines()\n",
    "        file.close()\n",
    "        count = 0\n",
    "        img_names = []\n",
    "        for f in files:\n",
    "            \"\"\"\n",
    "            Extract from 'SynthImageDataset./2425/1/115_Lube_45484.jpg 45484' only image lable - Lube\n",
    "            \"\"\"\n",
    "            label = f.split('_')[1]\n",
    "            if len(label) >= 4 and len(label) <= 12:\n",
    "                img_names.append(f)\n",
    "                count += 1\n",
    "            if count == number:\n",
    "                break\n",
    "        images_names=['SynthImageDataset' + x.strip() for x in img_names]\n",
    "        return images_names"
   ]
  },
  {
   "cell_type": "code",
   "execution_count": 7,
   "metadata": {},
   "outputs": [
    {
     "data": {
      "text/plain": [
       "['SynthImageDataset./2425/1/115_Lube_45484.jpg 45484',\n",
       " 'SynthImageDataset./2425/1/114_Spencerian_73323.jpg 73323',\n",
       " 'SynthImageDataset./2425/1/112_CARPENTER_11682.jpg 11682',\n",
       " 'SynthImageDataset./2425/1/110_savannas_67969.jpg 67969',\n",
       " 'SynthImageDataset./2425/1/109_unfix_82473.jpg 82473']"
      ]
     },
     "execution_count": 7,
     "metadata": {},
     "output_type": "execute_result"
    }
   ],
   "source": [
    "train_images = Extract_image_names('SynthImageDataset/annotation_train.txt',200000)\n",
    "train_images[:5]"
   ]
  },
  {
   "attachments": {},
   "cell_type": "markdown",
   "metadata": {},
   "source": [
    "Очищує назву файлів забираючи із кінця цифри, що індикують номер картинки"
   ]
  },
  {
   "cell_type": "code",
   "execution_count": 11,
   "metadata": {},
   "outputs": [
    {
     "data": {
      "text/plain": [
       "['SynthImageDataset/2425/1/115_Lube_45484.jpg',\n",
       " 'SynthImageDataset/2425/1/114_Spencerian_73323.jpg',\n",
       " 'SynthImageDataset/2425/1/112_CARPENTER_11682.jpg',\n",
       " 'SynthImageDataset/2425/1/110_savannas_67969.jpg',\n",
       " 'SynthImageDataset/2425/1/109_unfix_82473.jpg']"
      ]
     },
     "execution_count": 11,
     "metadata": {},
     "output_type": "execute_result"
    }
   ],
   "source": [
    "#помістити всередину минулої функції\n",
    "def clean_file_names(file_names):\n",
    "    clean_files = []\n",
    "    for file in file_names:\n",
    "        main_folder, img_loc, extension = file.split('.')\n",
    "        extension = extension.split(' ')[0]\n",
    "        img_file = main_folder + img_loc + '.' + extension\n",
    "        clean_files.append(img_file)\n",
    "    return clean_files\n",
    "\n",
    "\n",
    "train_cleaned = clean_file_names(train_images)\n",
    "\n",
    "train_cleaned[:5]"
   ]
  },
  {
   "cell_type": "code",
   "execution_count": 12,
   "metadata": {},
   "outputs": [
    {
     "data": {
      "text/html": [
       "<div>\n",
       "<style scoped>\n",
       "    .dataframe tbody tr th:only-of-type {\n",
       "        vertical-align: middle;\n",
       "    }\n",
       "\n",
       "    .dataframe tbody tr th {\n",
       "        vertical-align: top;\n",
       "    }\n",
       "\n",
       "    .dataframe thead th {\n",
       "        text-align: right;\n",
       "    }\n",
       "</style>\n",
       "<table border=\"1\" class=\"dataframe\">\n",
       "  <thead>\n",
       "    <tr style=\"text-align: right;\">\n",
       "      <th></th>\n",
       "      <th>ImageName</th>\n",
       "    </tr>\n",
       "  </thead>\n",
       "  <tbody>\n",
       "    <tr>\n",
       "      <th>0</th>\n",
       "      <td>SynthImageDataset/2425/1/115_Lube_45484.jpg</td>\n",
       "    </tr>\n",
       "    <tr>\n",
       "      <th>1</th>\n",
       "      <td>SynthImageDataset/2425/1/114_Spencerian_73323.jpg</td>\n",
       "    </tr>\n",
       "    <tr>\n",
       "      <th>2</th>\n",
       "      <td>SynthImageDataset/2425/1/112_CARPENTER_11682.jpg</td>\n",
       "    </tr>\n",
       "    <tr>\n",
       "      <th>3</th>\n",
       "      <td>SynthImageDataset/2425/1/110_savannas_67969.jpg</td>\n",
       "    </tr>\n",
       "    <tr>\n",
       "      <th>4</th>\n",
       "      <td>SynthImageDataset/2425/1/109_unfix_82473.jpg</td>\n",
       "    </tr>\n",
       "  </tbody>\n",
       "</table>\n",
       "</div>"
      ],
      "text/plain": [
       "                                           ImageName\n",
       "0        SynthImageDataset/2425/1/115_Lube_45484.jpg\n",
       "1  SynthImageDataset/2425/1/114_Spencerian_73323.jpg\n",
       "2   SynthImageDataset/2425/1/112_CARPENTER_11682.jpg\n",
       "3    SynthImageDataset/2425/1/110_savannas_67969.jpg\n",
       "4       SynthImageDataset/2425/1/109_unfix_82473.jpg"
      ]
     },
     "execution_count": 12,
     "metadata": {},
     "output_type": "execute_result"
    }
   ],
   "source": [
    "train_data=pd.DataFrame({'ImageName':train_cleaned})\n",
    "train_data.head()"
   ]
  }
 ],
 "metadata": {
  "kernelspec": {
   "display_name": "Python 3",
   "language": "python",
   "name": "python3"
  },
  "language_info": {
   "codemirror_mode": {
    "name": "ipython",
    "version": 3
   },
   "file_extension": ".py",
   "mimetype": "text/x-python",
   "name": "python",
   "nbconvert_exporter": "python",
   "pygments_lexer": "ipython3",
   "version": "3.11.1 (tags/v3.11.1:a7a450f, Dec  6 2022, 19:58:39) [MSC v.1934 64 bit (AMD64)]"
  },
  "orig_nbformat": 4,
  "vscode": {
   "interpreter": {
    "hash": "5f67f7264654895568bb9f927190d8435abf22960740b64607d2720a7858cdc8"
   }
  }
 },
 "nbformat": 4,
 "nbformat_minor": 2
}
